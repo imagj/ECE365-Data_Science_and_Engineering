{
 "cells": [
  {
   "cell_type": "markdown",
   "metadata": {},
   "source": [
    "# Lab 3 : Document Clustering\n",
    "\n",
    "In this lab, we will work with abstracts of research papers published on different aspects of coronaviruses over the years. Our goal is to segement the abstracts into different clusters based on the similarities in the topics that the abstracts talk about.\n",
    "\n",
    "1. We will begin by first using TF-IDF vectorizer to create a feature space to represent the abstracts.\n",
    "2. We will then use kmeans and hierarchical clustering to creates 3 different clusters and visualize them.\n",
    "3. We will also look at parameters like intra-cluster and inter-cluster distances to access the efficacy of the clustering that we have done.\n",
    "4. At last, we will look at the most important words for each of the clusters that we have created.\n",
    "\n",
    "## Important Instructions - \n",
    "\n",
    "### 1. This lab also contains subjective questions. Please write your answers in the same markdown cell in which the question is asked.\n",
    "2. Please make changes only inside the graded function. Do not make changes anywhere else in the notebook.\n",
    "3. Please read the description of every graded function very carefully. Description clearly states what is the expectation of each graded function. \n",
    "4. After almost every graded function, there is a cell which you can run and see if the expected output matches the output you are getting. \n",
    "5. The expected output provided is just a way for you to access the correctness of your code. The code will be tested on other cases also.\n",
    "\n",
    "## Submission Instructions -\n",
    "\n",
    "#### 1. You need to submit the completed jupyter notebook along with a pdf version of the notebook.\n",
    "\n",
    "#### 2. Please name your submissions according to the instructions provided earlier\n",
    "\n",
    "\n",
    "## Grading Policy -\n",
    "1. You will receive full credit if the code passes all test cases.\n",
    "2. In case of error, partial credit will be awarded based on your code and no. of test cases passed ."
   ]
  },
  {
   "cell_type": "code",
   "execution_count": 1,
   "metadata": {},
   "outputs": [],
   "source": [
    "#importing libraries\n",
    "import pandas as pd\n",
    "import numpy as np\n",
    "import json\n",
    "import os\n",
    "from nltk.corpus import stopwords\n",
    "from nltk.tokenize import word_tokenize\n",
    "import re\n",
    "from sklearn.feature_extraction.text import TfidfVectorizer\n",
    "from nltk.stem import WordNetLemmatizer\n",
    "from  sklearn.cluster import AgglomerativeClustering,SpectralClustering,KMeans\n",
    "import scipy.cluster.hierarchy as shc\n",
    "import matplotlib.pyplot as plt\n",
    "from sklearn.decomposition import PCA"
   ]
  },
  {
   "cell_type": "code",
   "execution_count": 2,
   "metadata": {},
   "outputs": [],
   "source": [
    "#setting stopwords and lemmatizer\n",
    "stop_words = set(stopwords.words(\"english\"))\n",
    "lemmatizer = WordNetLemmatizer()"
   ]
  },
  {
   "cell_type": "code",
   "execution_count": 3,
   "metadata": {},
   "outputs": [],
   "source": [
    "#the purpose of clean_abstract function is to remove stopwords, punctuation, \n",
    "#special characters as well as extra spaces\n",
    "def clean_abstract(abstract):\n",
    "    '''Clean the text, with the option to remove stopwords'''\n",
    "    \n",
    "    # Convert words to lower case and split them\n",
    "    abstract = abstract.lower()\n",
    "    # Clean the text\n",
    "    abstract = re.sub(r\"<br />\", \" \", abstract)\n",
    "    abstract = re.sub(r\"[^a-z]\", \" \", abstract)\n",
    "    abstract = re.sub(r\"   \", \" \", abstract) # Remove any extra spaces\n",
    "    abstract = re.sub(r\"  \", \" \", abstract)\n",
    "    #remove stopwords\n",
    "    stops = set(stopwords.words(\"english\"))\n",
    "    tokenized = word_tokenize(abstract)\n",
    "    abstract = [w for w in tokenized if not w in stop_words and len(w) > 3]\n",
    "    abstract = \" \".join(abstract)\n",
    "\n",
    "\n",
    "    \n",
    "    # Return a list of words\n",
    "    return abstract"
   ]
  },
  {
   "cell_type": "code",
   "execution_count": 4,
   "metadata": {},
   "outputs": [],
   "source": [
    "#extracting abstracts and corresponding paper ids from json data\n",
    "abstracts=[]\n",
    "paper_ids=[]\n",
    "count=0\n",
    "for file in os.listdir(\"noncomm_use_subset\") :\n",
    "    with open('noncomm_use_subset/' + file) as json_data:\n",
    "        data=json.load(json_data)\n",
    "        l=data['abstract']\n",
    "        if len(l) >= 1 :\n",
    "            count+=1\n",
    "            abstract=\"\"\n",
    "            paper_ids.append(data['paper_id'])\n",
    "            for d in l :\n",
    "                abstract+=d[\"text\"]+\" \"\n",
    "            abstract=clean_abstract(abstract)\n",
    "            abstracts.append(abstract)"
   ]
  },
  {
   "cell_type": "code",
   "execution_count": 5,
   "metadata": {},
   "outputs": [],
   "source": [
    "#creating dataframe\n",
    "data=pd.DataFrame()\n",
    "data['paper_id']=paper_ids\n",
    "data['abstract']=abstracts"
   ]
  },
  {
   "cell_type": "code",
   "execution_count": 6,
   "metadata": {},
   "outputs": [],
   "source": [
    "#converting the data frame abstract cols into rows\n",
    "list_abs=data['abstract'].values.tolist()"
   ]
  },
  {
   "cell_type": "markdown",
   "metadata": {},
   "source": [
    "## Graded Function 1 : create_document_matrix (3 marks)\n",
    "\n",
    "Pupose : To create a document matrix using sklearn's TfidfVectorizer. We will create features using tf-idf values of words. Every row of the matrix represents one document in the created feature space. We will use the top 1000 words and set maximum document frequency to 0.4\n",
    "\n",
    "You should return the trained vectorizer object and the document matrix.\n"
   ]
  },
  {
   "cell_type": "code",
   "execution_count": 7,
   "metadata": {},
   "outputs": [],
   "source": [
    "from sklearn.feature_extraction.text import TfidfVectorizer\n",
    "def create_document_matrix(max_features,max_df) :\n",
    "    '''\n",
    "    Input - max_features to keep and maximum document frequency\n",
    "    Output - trained vectorizer object and matrix\n",
    "    '''\n",
    "    ##start code here\n",
    "    vectorizer = TfidfVectorizer(max_features=max_features,max_df=max_df)\n",
    "    X = vectorizer.fit_transform(list_abs)\n",
    "    ##end code here\n",
    "    \n",
    "    return vectorizer, X"
   ]
  },
  {
   "cell_type": "code",
   "execution_count": 8,
   "metadata": {},
   "outputs": [
    {
     "name": "stdout",
     "output_type": "stream",
     "text": [
      "(1704, 1000)\n"
     ]
    }
   ],
   "source": [
    "vectorizer,doc_matrix=create_document_matrix(1000,0.4)\n",
    "print(doc_matrix.shape)"
   ]
  },
  {
   "cell_type": "markdown",
   "metadata": {},
   "source": [
    "## Expected Output -\n",
    "\n",
    "doc_matrix.shape = (1704,1000)"
   ]
  },
  {
   "cell_type": "markdown",
   "metadata": {},
   "source": [
    "## Graded Function 2 : create_feature_dataFrame (2 marks)\n",
    "\n",
    "Pupose : To convert the document matrix created above into a datframe with feature words as column names\n",
    "\n",
    "You should return a dataframe."
   ]
  },
  {
   "cell_type": "code",
   "execution_count": 78,
   "metadata": {},
   "outputs": [],
   "source": [
    "import scipy.sparse\n",
    "def create_feature_dataFrame(doc_matrix,vectorizer) :\n",
    "    '''\n",
    "    Input - document matrix and vectorizer created above\n",
    "    Output - feature dataframe\n",
    "    '''\n",
    "    ##start code here\n",
    "    names=vectorizer.get_feature_names()\n",
    "    doc_frame=pd.DataFrame(doc_matrix.todense(),columns=names)\n",
    "    ##end code here\n",
    "    return doc_frame"
   ]
  },
  {
   "cell_type": "code",
   "execution_count": 79,
   "metadata": {},
   "outputs": [
    {
     "name": "stdout",
     "output_type": "stream",
     "text": [
      "Index(['abbreviations', 'ability', 'able', 'absence', 'access', 'according',\n",
      "       'accurate', 'acid', 'acids', 'acquired'],\n",
      "      dtype='object')\n"
     ]
    }
   ],
   "source": [
    "feature_data=create_feature_dataFrame(doc_matrix,vectorizer)\n",
    "print(feature_data.columns[:10])"
   ]
  },
  {
   "cell_type": "markdown",
   "metadata": {},
   "source": [
    "## Expected Output -\n",
    "\n",
    "feature_data.columns[:10] = Index(['abbreviations', 'ability', 'able', 'absence', 'access', 'according',\n",
    "       'accurate', 'acid', 'acids', 'acquired'],\n",
    "      dtype='object')"
   ]
  },
  {
   "cell_type": "code",
   "execution_count": 80,
   "metadata": {},
   "outputs": [],
   "source": [
    "#we will maintain another dataframe all_data which will contain all the feature data and also cluster information and\n",
    "#principal components\n",
    "all_data = pd.DataFrame()\n",
    "for c in feature_data.columns :\n",
    "    all_data[c]=feature_data[c]"
   ]
  },
  {
   "cell_type": "markdown",
   "metadata": {},
   "source": [
    "## Graded Function 3 : do_pca (2 marks)\n",
    "\n",
    "Purpose - To get the first 2 principal components of feature data using Scikit learn's PCA utility and add both of these to the all_data dataframe"
   ]
  },
  {
   "cell_type": "code",
   "execution_count": 83,
   "metadata": {},
   "outputs": [],
   "source": [
    "from sklearn.decomposition import PCA\n",
    "from sklearn.preprocessing import StandardScaler\n",
    "def do_pca(n_components) :\n",
    "    '''\n",
    "    Input - the no. of components after doing pca\n",
    "    '''\n",
    "    global all_data\n",
    "    pca = PCA(n_components=n_components)  \n",
    "    principalComponents =pca.fit_transform(feature_data)\n",
    "    principalDf = pd.DataFrame(data = principalComponents, columns = ['principal component 1', 'principal component 2'])\n",
    "    all_data = all_data.join(principalDf)"
   ]
  },
  {
   "cell_type": "code",
   "execution_count": 84,
   "metadata": {},
   "outputs": [
    {
     "name": "stdout",
     "output_type": "stream",
     "text": [
      "(1704, 1002)\n"
     ]
    }
   ],
   "source": [
    "do_pca(2)\n",
    "print(all_data.shape)\n"
   ]
  },
  {
   "cell_type": "markdown",
   "metadata": {},
   "source": [
    "## Expected Output -\n",
    "\n",
    "all_data.shape = (1704,1002)"
   ]
  },
  {
   "cell_type": "markdown",
   "metadata": {},
   "source": [
    "## Graded Function 4 : visualize_clusters (3 marks)\n",
    "\n",
    "Purpose - To create a scatter plot with 2nd principal compenent on y-axis and 1st principal component on x-axis.\n",
    "\n",
    "Points belonging to different clusters should be represented with different colours. \n",
    "\n",
    "You should label the axis of the plot and also a legend for color to cluster no. mapping."
   ]
  },
  {
   "cell_type": "code",
   "execution_count": 86,
   "metadata": {},
   "outputs": [],
   "source": [
    "def visualize_clusters(cluster_column) :\n",
    "    '''\n",
    "    Input - column in all_data dataframe which contains cluster no. for the observations\n",
    "    '''\n",
    "     ##start code here\n",
    "    fig = plt.figure(figsize = (5,5))\n",
    "    ax = fig.add_subplot(1,1,1) \n",
    "    ax.set_xlabel('Principal Component 1', fontsize = 15)\n",
    "    ax.set_ylabel('Principal Component 2', fontsize = 15)\n",
    "    ax.set_title('2 component PCA', fontsize = 20)\n",
    "    targets = [0, 1, 2]\n",
    "    colors = ['r', 'g', 'b']\n",
    "    for target, color in zip(targets,colors):\n",
    "        indicesToKeep = all_data[cluster_column] == target\n",
    "        ax.scatter(all_data.loc[indicesToKeep, 'principal component 1']\n",
    "                   , all_data.loc[indicesToKeep, 'principal component 2']\n",
    "                   , c = color\n",
    "                   , s = 50)\n",
    "    ax.legend(targets)\n",
    "    ax.grid()   "
   ]
  },
  {
   "cell_type": "markdown",
   "metadata": {},
   "source": [
    "## Graded Function 5 : do_agglomerative (10 marks)\n",
    "\n",
    "Purpose - To do agglomerative clustring of the feature data using sklearn's AgglomerativeClustering . You should tune distance_threshold parameter such that the no. of clusters that you get is 3. Please keep the compute_full_tree parameter to true. "
   ]
  },
  {
   "cell_type": "code",
   "execution_count": 87,
   "metadata": {},
   "outputs": [],
   "source": [
    "from sklearn.cluster import AgglomerativeClustering\n",
    "def do_agglomerative(distance_threshold) :\n",
    "    '''\n",
    "    Input - distance_threshold to be used for clustering\n",
    "    Output - clusting object after fitting on the data\n",
    "    '''\n",
    "     ##start code here\n",
    "    \n",
    "    clust = AgglomerativeClustering(compute_full_tree=True,distance_threshold=distance_threshold,n_clusters=None).fit(feature_data)   \n",
    "    print(clust.n_clusters_)\n",
    "    ##end code here\n",
    "    return clust"
   ]
  },
  {
   "cell_type": "code",
   "execution_count": 88,
   "metadata": {},
   "outputs": [
    {
     "name": "stdout",
     "output_type": "stream",
     "text": [
      "3\n"
     ]
    }
   ],
   "source": [
    "#we will add the clustering labels to the all_data dataframe with column name 'cluster1'\n",
    "clustering1=do_agglomerative(5.5)"
   ]
  },
  {
   "cell_type": "code",
   "execution_count": 89,
   "metadata": {},
   "outputs": [
    {
     "data": {
      "image/png": "[encoded data removed]",
      "text/plain": [
       "<Figure size 360x360 with 1 Axes>"
      ]
     },
     "metadata": {
      "needs_background": "light"
     },
     "output_type": "display_data"
    }
   ],
   "source": [
    "#we will now use visualize the agglomerative clustering results\n",
    "all_data['cluster1']=list(clustering1.labels_)\n",
    "visualize_clusters(\"cluster1\")"
   ]
  },
  {
   "cell_type": "markdown",
   "metadata": {},
   "source": [
    "## Graded Function 6 : do_kmeans (5 marks)\n",
    "\n",
    "Purpose - To do kmeans clustring of the feature data using sklearn's KMeans . You should set no. of clusters to 3. "
   ]
  },
  {
   "cell_type": "code",
   "execution_count": 134,
   "metadata": {},
   "outputs": [],
   "source": [
    "from sklearn.cluster import KMeans\n",
    "def do_kmeans(n_clusters) :\n",
    "    '''\n",
    "    Input - no. of clusters\n",
    "    Output - clusting object after fitting on the data\n",
    "    '''\n",
    "     ##start code here\n",
    "    kmeans = KMeans(n_clusters=3, random_state=0).fit(feature_data)  \n",
    "    \n",
    "    ##end code here\n",
    "    return kmeans"
   ]
  },
  {
   "cell_type": "code",
   "execution_count": 135,
   "metadata": {},
   "outputs": [],
   "source": [
    "# #we will add the clustering labels to the all_data dataframe with column name 'cluster2'\n",
    "clustering2=do_kmeans(3)\n",
    "all_data['cluster2']=list(clustering2.labels_)"
   ]
  },
  {
   "cell_type": "code",
   "execution_count": 136,
   "metadata": {},
   "outputs": [
    {
     "data": {
      "image/png": "[encoded data removed]",
      "text/plain": [
       "<Figure size 360x360 with 1 Axes>"
      ]
     },
     "metadata": {
      "needs_background": "light"
     },
     "output_type": "display_data"
    }
   ],
   "source": [
    "visualize_clusters(\"cluster2\")"
   ]
  },
  {
   "cell_type": "markdown",
   "metadata": {},
   "source": [
    "## Note -\n",
    "\n",
    "You can experiment and see that 4 clusters will result in a bit more mix between the clusters(this is evident in visulization of kmeans results) which is not desirable since the main aim of unsupervised clustering is to get well-separated closely packed clusters. Hence, we have used 3 clusters in the entire analysis"
   ]
  },
  {
   "cell_type": "markdown",
   "metadata": {},
   "source": [
    "## Graded Function 7 : get_cluster_centers (10 marks)\n",
    "\n",
    "Purpose - To get the 3 cluster centers in agglomerative clustering. \n",
    "\n",
    "A cluster center is defined as the average of all points belonging to that cluster.\n",
    "\n",
    "You should return a numpy array with 3 rows and 1000 columns"
   ]
  },
  {
   "cell_type": "code",
   "execution_count": 65,
   "metadata": {},
   "outputs": [],
   "source": [
    "def get_cluster_centers() :\n",
    "    '''\n",
    "    Output - the 3 cluster centers. \n",
    "    '''\n",
    "    ##start code here\n",
    "    centers1=np.zeros((3,all_data.shape[1]))\n",
    "    centers1[0,:]=(all_data[all_data['cluster1'] == 0]).mean(axis=0)\n",
    "    centers1[1,:]=(all_data[all_data['cluster1'] == 1]).mean(axis=0)\n",
    "    centers1[2,:]=(all_data[all_data['cluster1'] == 2]).mean(axis=0)\n",
    "    drop=all_data.shape[1]-feature_data.shape[1]     \n",
    "    centers1=centers1[:, :-drop]  \n",
    "\n",
    "    return centers1"
   ]
  },
  {
   "cell_type": "code",
   "execution_count": 66,
   "metadata": {},
   "outputs": [
    {
     "name": "stdout",
     "output_type": "stream",
     "text": [
      "(3, 1000)\n",
      "[0.00206657 0.00345347 0.00333645 0.00338688 0.00503021]\n",
      "[0.         0.00103512 0.         0.00227696 0.00444854]\n",
      "[0.00748894 0.01055415 0.00408909 0.00369441 0.0029677 ]\n"
     ]
    }
   ],
   "source": [
    "centers1=get_cluster_centers()\n",
    "print(centers1.shape)\n",
    "print(centers1[0,:5])\n",
    "print(centers1[1,:5])\n",
    "print(centers1[2,:5])"
   ]
  },
  {
   "cell_type": "markdown",
   "metadata": {},
   "source": [
    "## Expected Output -\n",
    "\n",
    "centers1.shape = (3, 1000)\n",
    "\n",
    "centers1[0,:5] = [0.00201787 0.00411695 0.00325781 0.00330705 0.00509594]\n",
    "\n",
    "centers1[1,:5] = [0.         0.00103512 0.         0.00227696 0.00444854]\n",
    "\n",
    "centers1[2,:5] = [0.00797321 0.00919296 0.00435351 0.00393331 0.00265398]\n",
    "\n",
    "Note - Your output can vary slightly"
   ]
  },
  {
   "cell_type": "markdown",
   "metadata": {},
   "source": [
    "## Graded Function 8 : get_distances (10 marks)\n",
    "\n",
    "Purpose - To get the intra-cluster and inter-cluster distances. We will use l2 norm as the distance metric between 2 \n",
    "points in the feature space. \n",
    "\n",
    "intra-cluster distance - sum of distances of each point from its corresponding cluster\n",
    "\n",
    "inter-cluster distance - sum of distances between every two cluster centers"
   ]
  },
  {
   "cell_type": "code",
   "execution_count": 143,
   "metadata": {},
   "outputs": [],
   "source": [
    "from numpy import linalg as LA\n",
    "from scipy.spatial import distance\n",
    "def get_distances(centers,cluster_column):\n",
    "    '''\n",
    "    Input - cluster centers, column in all_data dataframe which contains cluster no. for the observations\n",
    "    Output - Inter and Intra cluster distances\n",
    "    '''\n",
    "    ##start code here\n",
    "    inter=0.0\n",
    "    intra=0.0\n",
    "    \n",
    "\n",
    "    d1= distance.euclidean(centers[0,:], centers[1,:])\n",
    "    d2= distance.euclidean(centers[0,:], centers[2,:])\n",
    "    d3= distance.euclidean(centers[1,:], centers[2,:])\n",
    "    dd=distance.cdist(centers, centers, 'euclidean')\n",
    "    inter=(np.ndarray.sum(dd)/2)  \n",
    "    clst_0=((all_data[all_data[cluster_column] == 0]).drop(['principal component 1', 'principal component 2', 'cluster1','cluster2'], axis=1)).to_numpy()\n",
    "    clst_1=((all_data[all_data[cluster_column] == 1]).drop(['principal component 1', 'principal component 2', 'cluster1','cluster2'], axis=1)).to_numpy()\n",
    "    clst_2=((all_data[all_data[cluster_column] == 2]).drop(['principal component 1', 'principal component 2', 'cluster1','cluster2'], axis=1)).to_numpy()\n",
    "    cc_0 = centers[0,:].reshape(1, -1)\n",
    "    cc_1 = centers[1,:].reshape(1, -1)\n",
    "    cc_2 = centers[2,:].reshape(1, -1)\n",
    "#     print(\"cc_0\",(cc_0).shape)\n",
    "#     print((centers1[0,:]).shape)\n",
    "    dd_1=distance.cdist(clst_0, cc_0, 'euclidean') \n",
    "    dd_2=distance.cdist(clst_1, cc_1, 'euclidean') \n",
    "    dd_3=distance.cdist(clst_2, cc_2, 'euclidean') \n",
    "    intra=((np.ndarray.sum(dd_1)+np.ndarray.sum(dd_2)+np.ndarray.sum(dd_3)))\n",
    "    print(inter,intra)\n",
    "    ##end code here\n",
    "    \n",
    "    "
   ]
  },
  {
   "cell_type": "code",
   "execution_count": 144,
   "metadata": {},
   "outputs": [
    {
     "name": "stdout",
     "output_type": "stream",
     "text": [
      "1.2671668099641384 1638.4819357551503\n"
     ]
    }
   ],
   "source": [
    "get_distances(centers1,\"cluster1\")"
   ]
  },
  {
   "cell_type": "markdown",
   "metadata": {},
   "source": [
    "## Expected Output - \n",
    "\n",
    "get_distances(centers1,\"cluster1\") = (1.2759084030891206, 1638.4871525318163)\n",
    "\n",
    "Note - the output may not match exactly."
   ]
  },
  {
   "cell_type": "code",
   "execution_count": 145,
   "metadata": {},
   "outputs": [
    {
     "name": "stdout",
     "output_type": "stream",
     "text": [
      "1.199359805023716 1634.2370022902248\n"
     ]
    }
   ],
   "source": [
    "from scipy.spatial import distance\n",
    "\n",
    "centers2=clustering2.cluster_centers_\n",
    "get_distances(centers2,\"cluster2\")"
   ]
  },
  {
   "cell_type": "markdown",
   "metadata": {},
   "source": [
    "## Expected Output - \n",
    "\n",
    "get_distances(centers2,\"cluster2\") = (1.2025709556400597, 1634.2309524387529)\n",
    "\n",
    "Note - the output may not match exactly."
   ]
  },
  {
   "cell_type": "markdown",
   "metadata": {},
   "source": [
    "## Question 1 : (5 marks)\n",
    "\n",
    "(a) Which clustering algorithm resulted in lower intra cluster distances? Give one possible explanation for the result.\n",
    "\n",
    "Answer - Lower intra cluster distances were observed in K-means clustering. Its clearly visible from the plots above that in k-means clustering the points are really well clustered together in a cluster whereas in the agglomerative clustering points are scattered. I think since agglomerative clustering is a type of hierarchical clustering where the number of clusters is not specified the clusters are spread and the intra cluster distance is higher.\n",
    "\n",
    "(b) Which clustering algorithm resulted in higher inter cluster distances? Give one possible explanation for the result.\n",
    "\n",
    "Answer - Higher inter cluster distances were observed in the agglomerative clustering algorithm.  Taking further the explanation in (a), since the clusters obatined from agglomerative clustering algorithm are larger and more spread apart their centroids are far apart (relative to k-means) and this causes higher inter cluster distances."
   ]
  },
  {
   "cell_type": "markdown",
   "metadata": {},
   "source": [
    "## Graded Function 9 : imp_words (10 marks)\n",
    "\n",
    "Purpose - To get the list of all word features sorted in ascending order for a particular cluster. \n",
    "For every word, sum its feature value across all observations for the particular cluster. You will then sort the words based on these values.\n",
    "\n",
    "The output list will have tuples with word as the first element of the tuple and sum of values as the 2nd element.\n",
    "\n",
    "Please note that the cluster no. 'k' in the function below is in the range (0,n_clusters-1)\n",
    "\n",
    "Note - On multiple runs of kmeans, the cluster nos. can change. So, I have provided 3 different lists of words you can possible get. The lists are in no particular order of cluster no."
   ]
  },
  {
   "cell_type": "code",
   "execution_count": 233,
   "metadata": {},
   "outputs": [],
   "source": [
    "def imp_words(k,cluster_column) :\n",
    "    '''\n",
    "    Input - cluster no., column in all_data dataframe which contains cluster no. for the observations\n",
    "    Output - list of words\n",
    "    '''\n",
    "     ##start code here\n",
    "    summ=((all_data[all_data[cluster_column] == k]).sum(axis=0))\n",
    "    summ=summ.drop(['principal component 1', 'principal component 2', 'cluster1','cluster2'])\n",
    "    zip_summ=list(zip(summ.keys(),summ.tolist()))\n",
    "    zip_summ.sort(key=lambda tup: tup[1]) \n",
    "    ##end code here\n",
    "    return zip_summ"
   ]
  },
  {
   "cell_type": "code",
   "execution_count": 234,
   "metadata": {},
   "outputs": [
    {
     "name": "stdout",
     "output_type": "stream",
     "text": [
      "[('infections', 2.2711904723026755), ('rate', 2.3851497566941213), ('spread', 2.4339596620077577), ('outbreaks', 2.4448466217168443), ('clinical', 2.480716722411819), ('high', 2.4862551087724833), ('control', 2.6185904999649545), ('viral', 2.6545290254337788), ('south', 2.671984464366165), ('disease', 3.003257776009313), ('severe', 3.0054640934103154), ('public', 3.0969754432777106), ('patients', 3.620010746239265), ('arabia', 4.180992360972853), ('human', 4.568881897228453), ('virus', 4.749963660758422), ('cases', 4.857058731693339), ('saudi', 5.1061649166292336), ('health', 5.240101413501149), ('korea', 5.872915103560175), ('transmission', 6.585784816818934), ('camels', 6.6181653145935435), ('infection', 7.28320757668681), ('coronavirus', 8.04405694398697), ('outbreak', 8.299096118471311), ('syndrome', 9.595293185932494), ('respiratory', 10.560437592994186), ('middle', 11.811602742149473), ('east', 11.815963303669848), ('mers', 43.21872232233398)]\n"
     ]
    }
   ],
   "source": [
    "print(imp_words(0,\"cluster2\")[-30:])"
   ]
  },
  {
   "cell_type": "code",
   "execution_count": 235,
   "metadata": {},
   "outputs": [
    {
     "name": "stdout",
     "output_type": "stream",
     "text": [
      "[('specific', 13.366478605161715), ('analysis', 13.39510611312861), ('sars', 13.742952833717194), ('sequence', 13.91886492714108), ('cellular', 14.050768543909232), ('domain', 14.088263465743696), ('induced', 14.226434454501318), ('type', 14.708782577986836), ('using', 14.891413463235224), ('binding', 14.989590529932464), ('also', 15.251556812458757), ('activity', 15.319640155901345), ('mice', 15.733809309444467), ('genes', 16.173659598878345), ('golgi', 16.279227482697824), ('replication', 16.467203035096812), ('immune', 17.66099356312791), ('viruses', 17.764832914308375), ('human', 18.803513074810173), ('host', 18.807643801031727), ('infection', 18.956544945085632), ('membrane', 19.40092623499879), ('gene', 20.63447017213101), ('viral', 26.203574248517402), ('proteins', 27.737379546823373), ('expression', 29.103495334793916), ('virus', 33.784347285036304), ('cell', 36.97548094123772), ('protein', 38.761688320150874), ('cells', 48.308763985215506)]\n"
     ]
    }
   ],
   "source": [
    "print(imp_words(1,\"cluster2\")[-30:])"
   ]
  },
  {
   "cell_type": "code",
   "execution_count": 236,
   "metadata": {},
   "outputs": [
    {
     "name": "stdout",
     "output_type": "stream",
     "text": [
      "[('among', 15.924762488104765), ('associated', 15.942333619257777), ('years', 16.205997231019115), ('pathogens', 16.34735386654629), ('public', 17.301866184824725), ('group', 17.333107190351612), ('data', 17.357868026894526), ('china', 17.51516714321074), ('acute', 17.718227233557467), ('samples', 17.793894655052302), ('results', 18.055350709707486), ('infectious', 18.197000730907046), ('cases', 18.254113816885873), ('risk', 19.21517196362511), ('diseases', 19.510753807346983), ('viral', 19.616549537640875), ('infections', 19.788340443024516), ('pneumonia', 19.807299617618884), ('treatment', 19.82702905568107), ('influenza', 20.01613621826952), ('viruses', 20.16570255091967), ('children', 20.7379479216139), ('study', 25.009765704522884), ('infection', 25.343772814330922), ('clinical', 26.257861580257927), ('disease', 28.555217886248574), ('virus', 28.6251010066726), ('respiratory', 35.1388537347508), ('health', 35.69303263803952), ('patients', 43.09023054071637)]\n"
     ]
    }
   ],
   "source": [
    "print(imp_words(2,\"cluster2\")[-30:])"
   ]
  },
  {
   "cell_type": "markdown",
   "metadata": {},
   "source": [
    "## 1 :\n",
    "\n",
    "[('receptor', 12.55695761824851),\n",
    " ('antibody', 12.645329920745596),\n",
    " ('specific', 12.663586706878325),\n",
    " ('antiviral', 13.205611551436832),\n",
    " ('sars', 13.375509135150393),\n",
    " ('type', 13.701909300952396),\n",
    " ('cellular', 13.830636476160848),\n",
    " ('also', 13.877612565312328),\n",
    " ('induced', 14.069580345432174),\n",
    " ('domain', 14.088263465743692),\n",
    " ('binding', 14.581027802249706),\n",
    " ('genes', 14.625301884739228),\n",
    " ('activity', 15.292686196946374),\n",
    " ('viruses', 15.447736257797823),\n",
    " ('mice', 15.612430521144065),\n",
    " ('replication', 15.927922134181905),\n",
    " ('golgi', 16.279227482697824),\n",
    " ('immune', 16.61610089653616),\n",
    " ('gene', 17.709492859711876),\n",
    " ('host', 17.782863417900696),\n",
    " ('human', 17.901200271000473),\n",
    " ('infection', 18.490241498291383),\n",
    " ('membrane', 19.197083670411057),\n",
    " ('viral', 23.392795808148215),\n",
    " ('proteins', 26.719984486805544),\n",
    " ('expression', 29.09694080063638),\n",
    " ('virus', 30.309654023304617),\n",
    " ('cell', 36.53661900503533),\n",
    " ('protein', 38.17931000604836),\n",
    " ('cells', 48.206916674500626)]\n",
    " \n",
    "## 2 :\n",
    "[('infections', 2.271190472302675),\n",
    " ('rate', 2.385149756694121),\n",
    " ('spread', 2.433959662007758),\n",
    " ('outbreaks', 2.4448466217168443),\n",
    " ('clinical', 2.4807167224118194),\n",
    " ('high', 2.4862551087724847),\n",
    " ('control', 2.618590499964954),\n",
    " ('viral', 2.654529025433779),\n",
    " ('south', 2.6719844643661648),\n",
    " ('disease', 3.003257776009313),\n",
    " ('severe', 3.005464093410315),\n",
    " ('public', 3.09697544327771),\n",
    " ('patients', 3.6200107462392657),\n",
    " ('arabia', 4.180992360972854),\n",
    " ('human', 4.568881897228452),\n",
    " ('virus', 4.749963660758424),\n",
    " ('cases', 4.85705873169334),\n",
    " ('saudi', 5.106164916629234),\n",
    " ('health', 5.240101413501151),\n",
    " ('korea', 5.872915103560177),\n",
    " ('transmission', 6.585784816818933),\n",
    " ('camels', 6.6181653145935435),\n",
    " ('infection', 7.283207576686812),\n",
    " ('coronavirus', 8.044056943986968),\n",
    " ('outbreak', 8.29909611847131),\n",
    " ('syndrome', 9.595293185932503),\n",
    " ('respiratory', 10.560437592994184),\n",
    " ('middle', 11.811602742149475),\n",
    " ('east', 11.815963303669847),\n",
    " ('mers', 43.218722322333996)]\n",
    " \n",
    "## 3 :\n",
    "\n",
    "[('among', 16.61456562650734),\n",
    " ('associated', 16.91042745299649),\n",
    " ('public', 17.48704955739214),\n",
    " ('china', 17.51516714321074),\n",
    " ('pathogens', 17.53392964956187),\n",
    " ('using', 17.81796237102735),\n",
    " ('group', 17.8673258093374),\n",
    " ('acute', 18.184657525956776),\n",
    " ('cases', 18.563827780021402),\n",
    " ('data', 18.667313163847524),\n",
    " ('results', 18.731343206463645),\n",
    " ('risk', 19.259625969610042),\n",
    " ('infectious', 19.656115669193778),\n",
    " ('samples', 19.66342648579428),\n",
    " ('pneumonia', 19.855858093341244),\n",
    " ('treatment', 20.01960420846876),\n",
    " ('infections', 20.15614780959232),\n",
    " ('diseases', 20.72206493032006),\n",
    " ('children', 20.73794792161389),\n",
    " ('influenza', 21.11148110201874),\n",
    " ('viral', 22.427327978010066),\n",
    " ('viruses', 22.482799207430205),\n",
    " ('infection', 25.810076261125168),\n",
    " ('study', 26.123502883634227),\n",
    " ('clinical', 26.863254544931188),\n",
    " ('disease', 29.676257347523574),\n",
    " ('virus', 32.09979426840429),\n",
    " ('respiratory', 35.57112978970868),\n",
    " ('health', 35.99831467549281),\n",
    " ('patients', 43.21384755916491)]"
   ]
  },
  {
   "cell_type": "code",
   "execution_count": null,
   "metadata": {},
   "outputs": [],
   "source": []
  }
 ],
 "metadata": {
  "kernelspec": {
   "display_name": "Python 3",
   "language": "python",
   "name": "python3"
  },
  "language_info": {
   "codemirror_mode": {
    "name": "ipython",
    "version": 3
   },
   "file_extension": ".py",
   "mimetype": "text/x-python",
   "name": "python",
   "nbconvert_exporter": "python",
   "pygments_lexer": "ipython3",
   "version": "3.7.4"
  }
 },
 "nbformat": 4,
 "nbformat_minor": 2
}
