{
 "cells": [
  {
   "cell_type": "markdown",
   "metadata": {},
   "source": [
    "# Lab 1 : Syntagmatic Word Association Minining\n",
    "\n",
    "Two words wa and wb have a syntagmatic relation if they can be combined with each other in a grammatical sentence—meaning that these two words are semantically related. For example, cat and sit are related because a cat can sit somewhere (usually anywhere they please). Similarly, car and drive are related semantically because they can be combined with each other to convey some meaning.\n",
    "\n",
    "There are many applications where syntagmatic relation mining is important. For example, in retrieval, words that have strong syntagmatic relations with the original query words can be used to expand the query in order to enhance retrieval results. For example, if the current word is drive, we can use syntagmatic word association to suggest car as the next word. Another application is opinion summarization; for example, we can extract the top K syntagmatically related words to “iPhone 6” from a corpus of customer reviews in order to summarize the users' feedback.\n",
    "\n",
    "This lab has been divided into two parts : \n",
    "1. In the first part, we look at two different ways of extracting most related words in a corpus, the first one is co-occurrence count between words and the other is mutual information. For every word in the document, you will define a fixed no. of words to the left and right as its context. So, for every occurence of a given word, you will get a different context resulting in a list of contexts. You will find 2 text files containing 20 words each in the extracted folder. We will do a co-occurrence and mutual information analysis of the 40 words and see which way is better for getting meaningful co-related word pairs. \n",
    "\n",
    "\n",
    "2. In the second part, we will use pointwise mutual information to mine most related words for a given word. This is what we call query expansion\n",
    "\n",
    "## Important Instructions - \n",
    "\n",
    "1. You are not allowed to use any in-built libraries for calculating co-occurrence counts or pointwise mutual information. \n",
    "2. Please make changes only inside the graded function. Do not make changes anywhere else in the notebook.\n",
    "3. Please read the description of every graded function very carefully. Description clearly states what is the expectation of each graded function. \n",
    "4. After almost every graded function, there is a cell which you can run and see if the expected output matches the output you are getting. \n",
    "5. The expected output provided is just a way for you to access the correctness of your code. The code will be tested on other cases also.\n",
    "\n",
    "## Grading Policy - \n",
    "\n",
    "1. You will receive full credit if the code passes all test cases.\n",
    "2. In case of error, partial credit will be awarded based on your code and no. of test cases passed ."
   ]
  },
  {
   "cell_type": "code",
   "execution_count": 1,
   "metadata": {},
   "outputs": [],
   "source": [
    "#importing libraries\n",
    "from nltk.corpus import stopwords\n",
    "from nltk.tokenize import word_tokenize\n",
    "import string \n",
    "import nltk\n",
    "import math\n",
    "import numpy as np\n",
    "import re\n",
    "from nltk.stem import WordNetLemmatizer "
   ]
  },
  {
   "cell_type": "code",
   "execution_count": 2,
   "metadata": {},
   "outputs": [],
   "source": [
    "#reading 5k reviews from yelp_reviews5k.txt file\n",
    "with open(\"yelp_reviews5k.txt\",'r') as fileObject :\n",
    "    yelp_data=fileObject.read()"
   ]
  },
  {
   "cell_type": "markdown",
   "metadata": {},
   "source": [
    "## Graded Fucntion 1 : get_vocab_words (2 marks)\n",
    "\n",
    "Pupose : To get list of words in the corpus using nltk's word_tokenize method after converting corpus to lower case. "
   ]
  },
  {
   "cell_type": "code",
   "execution_count": 3,
   "metadata": {},
   "outputs": [],
   "source": [
    "#graded function 1\n",
    "def get_vocab_words(data) :\n",
    "    '''data - string input\n",
    "    Output - output a list of words after tokenzing string document\n",
    "    '''\n",
    "    #converting to lower case\n",
    "    data=data.lower()\n",
    "    #removing words containing punctuation or digits\n",
    "    data=re.sub(r\"[^a-z]\", \" \", data)\n",
    "    #start code here\n",
    "    list_words=nltk.word_tokenize(data)\n",
    "    \n",
    "    return list_words\n",
    "    ##end code"
   ]
  },
  {
   "cell_type": "code",
   "execution_count": 4,
   "metadata": {},
   "outputs": [
    {
     "name": "stdout",
     "output_type": "stream",
     "text": [
      "141\n",
      "False\n",
      "False\n"
     ]
    }
   ],
   "source": [
    "example='''We ordered the fried green tomato appetizer, and it was truly ordinary.  The tomatoes were breaded too heavily, and there wasn't anything particularly flavorful on the plate.  For dinner, we ordered the flatiron steak, the half chicken, green beans, and cauliflower.  The meats were just dreadful.  The steak was undercooked, and it was served cold.  The chicken was warm when it was brought to the table, but it was so bland that it was not worth eating.  Candidly, a rotisserie chicken from the Fresh Market is much, much better than the chicken they served us here.  The vegetables weren't memorable in any way.  The beans were luke warm and a bit oily.  The cauliflower's sauce\\/flavoring was simply not enough to make it enjoyable.  We skipped dessert, for there seemed to be no point in prolonging the evening.  '''\n",
    "example_words=get_vocab_words(example)\n",
    "print(len(example_words))\n",
    "print(\".\" in example_words)\n",
    "print(\",\" in example_words)"
   ]
  },
  {
   "cell_type": "markdown",
   "metadata": {},
   "source": [
    "## Expected Output - \n",
    "\n",
    "len(example_words) = 141\n",
    "\n",
    "\".\" in example_words = False\n",
    "\n",
    "\",\" in example_words = False"
   ]
  },
  {
   "cell_type": "code",
   "execution_count": 5,
   "metadata": {},
   "outputs": [],
   "source": [
    "yelp_words=get_vocab_words(yelp_data)"
   ]
  },
  {
   "cell_type": "markdown",
   "metadata": {},
   "source": [
    "## Graded Function 2 : get_word_mappings (3 marks)\n",
    "\n",
    "Purpose : \n",
    "1. To generate a list of all unique words in the document using the list of words obtained above. \n",
    "2. To generate dictionaries to map words to index and vice versa\n",
    "\n",
    "For example - let list of all words : ['and' , 'and', 'i', 'the']\n",
    "\n",
    "unique_words = ['and','i','the']\n",
    "\n",
    "word_index = {'and':0 ,'i':1 ,'the':2}"
   ]
  },
  {
   "cell_type": "code",
   "execution_count": 6,
   "metadata": {},
   "outputs": [],
   "source": [
    "from collections import OrderedDict\n",
    "def get_word_mappings(vocab_words) :\n",
    "    '''vocab_words - list of all words in the document\n",
    "    Output - list of all unique words, dictionary to map every unique word to index, dictionary to map index to word.\n",
    "    '''\n",
    "    #start code here\n",
    "#     unique_list=list(set(vocab_words))\n",
    "    unique_list=list(OrderedDict.fromkeys(vocab_words))\n",
    "    word_index={k: v for v, k in enumerate(unique_list)}\n",
    "    index_word=dict((y,x) for x,y in word_index.items())\n",
    "    \n",
    "    \n",
    "    #end code here\n",
    "    return unique_list,word_index,index_word\n"
   ]
  },
  {
   "cell_type": "code",
   "execution_count": 7,
   "metadata": {},
   "outputs": [
    {
     "name": "stdout",
     "output_type": "stream",
     "text": [
      "20963\n",
      "707\n",
      "watership\n"
     ]
    }
   ],
   "source": [
    "unique_words,word_index,index_word=get_word_mappings(yelp_words)\n",
    "# print(index_word)\n",
    "print(len(unique_words))\n",
    "print(word_index['cream'])\n",
    "print(index_word[13332])"
   ]
  },
  {
   "cell_type": "markdown",
   "metadata": {},
   "source": [
    "## Expected Output - \n",
    "\n",
    "len(unique_words) = 20963\n",
    "\n",
    "word_index['cream'] = 707\n",
    "\n",
    "index_word[13332] = 'watership'"
   ]
  },
  {
   "cell_type": "markdown",
   "metadata": {},
   "source": [
    "## Graded Function 3 :  get_all_window_words (10 marks)\n",
    " \n",
    "Purpose : To traverse the document(list of all words) once and for each word, record every word to the left and right in the given window range(context as defined in the introduction). So, the output will be a dictionary which will have each unique word as key and value as list of lists where each sublist is a different context of the word.\n",
    "We will use window size = 3\n",
    "\n",
    "For Example : let l = ['the','chicken','appetizer','was','good','chicken','was','properly','cooked'] be the list of all words and window size=2\n",
    "\n",
    "window_words = \n",
    "\n",
    "{'the' :   [['chicken','appetizer']].....\n",
    "\n",
    " 'chicken'  :    [['the','appetizer','was']   ,   ['was','good','was','properly']].......}"
   ]
  },
  {
   "cell_type": "code",
   "execution_count": 35,
   "metadata": {},
   "outputs": [],
   "source": [
    "from collections import OrderedDict\n",
    "def get_all_window_words(document,window=3) :\n",
    "    '''\n",
    "    Input - document(list of all words) and window size\n",
    "    Output - dictionary in which key is word and value is list of lists where each sublist corresponds to a different\n",
    "    of the word.\n",
    "    '''\n",
    "    #start code here\n",
    "#     print(document)\n",
    "    u_list=list(OrderedDict.fromkeys(document))\n",
    "    final_dict={}\n",
    "    for x in u_list: \n",
    "        final_list=[]\n",
    "        for y,z in enumerate(document):\n",
    "            if(x==z):\n",
    "                if(y-window<0):\n",
    "                    dd=document[0:y]\n",
    "                else:\n",
    "                    dd=document[y-window:y]\n",
    "                if(len(document)-y<window):\n",
    "                    ee=document[y+1:len(example)]\n",
    "                else:\n",
    "                    ee=document[y+1:y+(window+1)]\n",
    "                jj=dd[:]+ee[:]\n",
    "                final_list.append(jj)\n",
    "        final_dict[x]=final_list\n",
    "        \n",
    "    \n",
    "    #end code here\n",
    "    return final_dict"
   ]
  },
  {
   "cell_type": "code",
   "execution_count": 37,
   "metadata": {},
   "outputs": [
    {
     "name": "stdout",
     "output_type": "stream",
     "text": [
      "\n"
     ]
    }
   ],
   "source": [
    "# example=['the','chicken','appetizer','was','good','chicken','was','properly','cooked']\n",
    "# # for y,z in enumerate(example):\n",
    "# #     print(y,z)\n",
    "# window=3\n",
    "# x=7\n",
    "# if(x-3<0):\n",
    "#     dd=example[0:x]\n",
    "# else:\n",
    "#     dd=example[x-3:x]\n",
    "# if(len(example)-x<window):\n",
    "#     ee=example[x+1:len(example)]\n",
    "# else:\n",
    "#     ee=example[x+1:x+4]\n",
    "# jj=dd[:]+ee[:]\n",
    "# print(dd)\n",
    "# print(ee)\n",
    "# print(jj)\n",
    "# print(len(yelp_words))\n",
    "\n",
    "# example=['the','chicken','appetizer','was','good','chicken','was','properly','cooked']\n",
    "yelp_all_window_wordsss=get_all_window_words(yelp_words[:1000],3)\n",
    "# yelp_all_window_wordsss=get_all_window_words(example,3)\n",
    "# print(\"yelp words\",yelp_words[:20])\n",
    "print()\n",
    "# print(yelp_all_window_wordsss)"
   ]
  },
  {
   "cell_type": "code",
   "execution_count": 38,
   "metadata": {},
   "outputs": [
    {
     "name": "stdout",
     "output_type": "stream",
     "text": [
      "{'the': [['chicken', 'appetizer', 'was']], 'chicken': [['the', 'appetizer', 'was', 'good'], ['appetizer', 'was', 'good', 'was', 'properly', 'cooked']], 'appetizer': [['the', 'chicken', 'was', 'good', 'chicken']], 'was': [['the', 'chicken', 'appetizer', 'good', 'chicken', 'was'], ['was', 'good', 'chicken', 'properly', 'cooked']], 'good': [['chicken', 'appetizer', 'was', 'chicken', 'was', 'properly']], 'properly': [['good', 'chicken', 'was', 'cooked']], 'cooked': [['chicken', 'was', 'properly']]}\n",
      "[['the', 'appetizer', 'was', 'good'], ['appetizer', 'was', 'good', 'was', 'properly', 'cooked']]\n",
      "676\n",
      "221\n"
     ]
    }
   ],
   "source": [
    "# example=['the','chicken','appetizer','was','good','chicken','was','properly','cooked']\n",
    "# yelp_all_window_words=get_all_window_words(example,3)\n",
    "# print(yelp_all_window_words)\n",
    "\n",
    "yelp_all_window_words=get_all_window_words(yelp_words,3)\n",
    "example=['the','chicken','appetizer','was','good','chicken','was','properly','cooked']\n",
    "\n",
    "print(get_all_window_words(example))\n",
    "print(get_all_window_words(example)['chicken'])\n",
    "print(len(yelp_all_window_words['chicken']))\n",
    "print(len(yelp_all_window_words['soup']))"
   ]
  },
  {
   "cell_type": "markdown",
   "metadata": {},
   "source": [
    "## Expected Output - \n",
    "\n",
    "get_all_window_words(example)['chicken'] = [['the', 'appetizer', 'was', 'good'], ['appetizer', 'was', 'good', 'was', 'properly', 'cooked']]\n",
    "\n",
    "len(yelp_all_window_words['chicken']) = 676\n",
    "\n",
    "len(yelp_all_window_words['soup']) = 221"
   ]
  },
  {
   "cell_type": "markdown",
   "metadata": {},
   "source": [
    "## Graded Function 4 : get_cooccurrence_count (10 marks)\n",
    "\n",
    "Purpose : Given two words wa and wb, find the no. of times wb occurs in the context of wa. \n",
    "\n",
    "You should use the window_words generated previously to find co-occurrence.\n",
    "\n",
    "For Example : let l = ['the','chicken','appetizer','was','good','chicken','was','properly','cooked'] be the list of all words and window size=2\n",
    "\n",
    "Hence, dictionary of window_words :\n",
    "\n",
    "{'the': [['chicken', 'appetizer', 'was']], 'chicken': [['the', 'appetizer', 'was', 'good'], ['appetizer', 'was', 'good', 'was', 'properly', 'cooked']], 'appetizer': [['the', 'chicken', 'was', 'good', 'chicken']], 'was': [['the', 'chicken', 'appetizer', 'good', 'chicken', 'was'], ['was', 'good', 'chicken', 'properly', 'cooked']], 'good': [['chicken', 'appetizer', 'was', 'chicken', 'was', 'properly']], 'properly': [['good', 'chicken', 'was', 'cooked']], 'cooked': [['chicken', 'was', 'properly']]}\n",
    "\n",
    "In this case, co-occurence of chicken and appetizer is 2. \n",
    "\n",
    "Important Note - Each word is to be counted only once per context. So, even if chicken appears twice in the 1st context of appetizer, co-occurence count between appetizer and chicken will be 1."
   ]
  },
  {
   "cell_type": "code",
   "execution_count": 41,
   "metadata": {},
   "outputs": [],
   "source": [
    "def get_cooccurrence_count(wa,wb) :\n",
    "    '''\n",
    "    Input - two words wa and wb whose co-occurrence count is to be calculated\n",
    "    Output - the co-occurence count\n",
    "    '''\n",
    "    #start code here\n",
    "    ll=yelp_all_window_words[wa]\n",
    "#     print(ll)\n",
    "    count=0\n",
    "    for x in ll:\n",
    "           if(wb in x):\n",
    "                count+=1\n",
    "    #end code here\n",
    "    return count"
   ]
  },
  {
   "cell_type": "code",
   "execution_count": 43,
   "metadata": {},
   "outputs": [
    {
     "name": "stdout",
     "output_type": "stream",
     "text": [
      "5515\n",
      "290\n",
      "3161\n"
     ]
    }
   ],
   "source": [
    "# \"print(get_cooccurrence_count(\"appetizer\",\"chicken\"))\n",
    "# print((yelp_all_window_words['to']))\n",
    "print(get_cooccurrence_count(\"the\",\"and\"))\n",
    "print(get_cooccurrence_count(\"if\",\"the\"))\n",
    "print(get_cooccurrence_count(\"to\",\"the\"))"
   ]
  },
  {
   "cell_type": "markdown",
   "metadata": {},
   "source": [
    "## Expected Output - \n",
    "\n",
    "get_cooccurrence_count(\"the\",\"and\") = 5515\n",
    "\n",
    "get_cooccurrence_count(\"if\",\"the\") = 290\n",
    "\n",
    "get_cooccurrence_count(\"to\",\"the\") = 3161"
   ]
  },
  {
   "cell_type": "markdown",
   "metadata": {},
   "source": [
    "## We will now load the 20 word-pairs present in cooccurrence_words.txt and mi_words.txt to compare approaches of co-occurrence count and mutual information."
   ]
  },
  {
   "cell_type": "code",
   "execution_count": 44,
   "metadata": {},
   "outputs": [],
   "source": [
    "with open(\"cooccurrence_words.txt\",'r') as fileObject :\n",
    "    word_list1=fileObject.read().split(\"\\n\")"
   ]
  },
  {
   "cell_type": "code",
   "execution_count": 45,
   "metadata": {},
   "outputs": [],
   "source": [
    "with open(\"mi_words.txt\",'r') as fileObject :\n",
    "    word_list2=fileObject.read().split(\"\\n\")"
   ]
  },
  {
   "cell_type": "markdown",
   "metadata": {},
   "source": [
    "## Graded Function 5 : coOccurrence_analysis (10 marks)\n",
    "\n",
    "Purpose : This function will iterate through the list of words pairs and calculate the co-occuerence of each word pair. You should calculate the co-occurence count of the 2nd word in the pair given the contexts of 1st word.\n",
    "\n",
    "You should finally return a dictionary with the word-pair as the key and co-occurence count as the value. The dictionary should be arranged in descending order by count"
   ]
  },
  {
   "cell_type": "code",
   "execution_count": 60,
   "metadata": {},
   "outputs": [],
   "source": [
    "def coOccurrence_analysis(word_list) :\n",
    "    '''\n",
    "    Input - list of word pairs separated by '-'\n",
    "    Output - dictionary of word pairs and counts in descending order\n",
    "    '''\n",
    "    #start code here\n",
    "    f_dict={}\n",
    "    for x in word_list:\n",
    "        parts=x.split(\"-\");\n",
    "#         print(parts[0])\n",
    "        ll=yelp_all_window_words[parts[0]]\n",
    "        count=0\n",
    "        for l in ll:\n",
    "               if(parts[1] in l):\n",
    "                    count+=1\n",
    "        f_dict[x]=count\n",
    "    f_dict={k: v for k, v in sorted(f_dict.items(), key=lambda item: item[1],reverse=True)}\n",
    "    return f_dict\n",
    "    #end code here"
   ]
  },
  {
   "cell_type": "code",
   "execution_count": 61,
   "metadata": {},
   "outputs": [
    {
     "data": {
      "text/plain": [
       "{'the-and': 5515,\n",
       " 'was-the': 3733,\n",
       " 'i-the': 3590,\n",
       " 'of-the': 3286,\n",
       " 'to-the': 3161,\n",
       " 'is-the': 2804,\n",
       " 'a-to': 1805,\n",
       " 'for-the': 1789,\n",
       " 'it-the': 1442,\n",
       " 'my-and': 1318,\n",
       " 'the-food': 1288,\n",
       " 'this-place': 1260,\n",
       " 'was-a': 1208,\n",
       " 'we-the': 1130,\n",
       " 'but-the': 1081,\n",
       " 'is-a': 1079,\n",
       " 'at-the': 1032,\n",
       " 'in-a': 1029,\n",
       " 'are-the': 989,\n",
       " 'were-the': 975}"
      ]
     },
     "execution_count": 61,
     "metadata": {},
     "output_type": "execute_result"
    }
   ],
   "source": [
    "coOccurrence_analysis(word_list1)"
   ]
  },
  {
   "cell_type": "markdown",
   "metadata": {},
   "source": [
    "## Expected Output - \n",
    "\n",
    "{'the-and': 5515,\n",
    "\n",
    " 'was-the': 3733,\n",
    " \n",
    " 'i-the': 3590,\n",
    " \n",
    " 'of-the': 3286,\n",
    " \n",
    " 'to-the': 3161,\n",
    " \n",
    " 'is-the': 2804,\n",
    " \n",
    " 'a-to': 1805,\n",
    " \n",
    " 'for-the': 1789,\n",
    " \n",
    " 'it-the': 1442,\n",
    " \n",
    " 'my-and': 1318,\n",
    " \n",
    " 'the-food': 1288,\n",
    " \n",
    " 'this-place': 1260,\n",
    " \n",
    " 'was-a': 1208,\n",
    " \n",
    " 'we-the': 1130,\n",
    " \n",
    " 'but-the': 1081,\n",
    " \n",
    " 'is-a': 1079,\n",
    " \n",
    " 'at-the': 1032,\n",
    " \n",
    " 'in-a': 1029,\n",
    " \n",
    " 'are-the': 989,\n",
    " \n",
    " 'were-the': 975}"
   ]
  },
  {
   "cell_type": "code",
   "execution_count": 62,
   "metadata": {},
   "outputs": [
    {
     "data": {
      "text/plain": [
       "{'ice-cream': 136,\n",
       " 'grocery-store': 30,\n",
       " 'gluten-free': 23,\n",
       " 'dim-sum': 22,\n",
       " 'feels-like': 21,\n",
       " 'grilled-chicken': 18,\n",
       " 'figure-out': 16,\n",
       " 'all-kinds': 16,\n",
       " 'every-penny': 11,\n",
       " 'pointed-out': 10,\n",
       " 'other-reviewers': 10,\n",
       " 'smoked-salmon': 9,\n",
       " 'tucked-away': 8,\n",
       " 'bone-marrow': 8,\n",
       " 'no-whatsoever': 7,\n",
       " 'san-francisco': 6,\n",
       " 'hooked-up': 5,\n",
       " 'cheeseburger-fries': 5,\n",
       " 'hollandaise-sauce': 5}"
      ]
     },
     "execution_count": 62,
     "metadata": {},
     "output_type": "execute_result"
    }
   ],
   "source": [
    "coOccurrence_analysis(word_list2)"
   ]
  },
  {
   "cell_type": "markdown",
   "metadata": {},
   "source": [
    "## Expected Output - \n",
    "\n",
    "{'ice-cream': 136,\n",
    "\n",
    " 'grocery-store': 30,\n",
    " \n",
    " 'gluten-free': 23,\n",
    " \n",
    " 'dim-sum': 22,\n",
    " \n",
    " 'feels-like': 21,\n",
    " \n",
    " 'grilled-chicken': 18,\n",
    " \n",
    " 'figure-out': 16,\n",
    " \n",
    " 'all-kinds': 16,\n",
    " \n",
    " 'every-penny': 11,\n",
    " \n",
    " 'pointed-out': 10,\n",
    " \n",
    " 'other-reviewers': 10,\n",
    " \n",
    " 'smoked-salmon': 9,\n",
    " \n",
    " 'tucked-away': 8,\n",
    " \n",
    " 'bone-marrow': 8,\n",
    " \n",
    " 'no-whatsoever': 7,\n",
    " \n",
    " 'san-francisco': 6,\n",
    " \n",
    " 'hooked-up': 5,\n",
    " \n",
    " 'cheeseburger-fries': 5,\n",
    " \n",
    " 'hollandaise-sauce': 5}\n"
   ]
  },
  {
   "cell_type": "markdown",
   "metadata": {},
   "source": [
    "## We can observe that the co-occurence counts of words in co-occuerence_words.txt is much more than of the words present in mi_words.txt"
   ]
  },
  {
   "attachments": {
    "image.png": {
     "image/png": "[encoded data removed]"
    }
   },
   "cell_type": "markdown",
   "metadata": {},
   "source": [
    "## Graded Function 6 : get_mutual_information (15 marks)\n",
    "\n",
    "Purpose : To calculate pointwise mutual information between two words w1 and w2 given their context windows.\n",
    "\n",
    "Pointwise mutual information between two words w1 and w2 is defined as - \n",
    "\n",
    "![image.png](attachment:image.png)\n",
    "\n",
    "Here the numerator is the joint probability(P(w1,w2)) of w1 and w2 occurring together and the denominator is the product of probabilities of getting w1(Pw1) and w2(Pw2) separately.\n",
    "\n",
    "Pw1 and Pw2 can be calculated easily since we know the no. of context windows of w1 and w2 both and also the total no. of words.\n",
    "\n",
    "P(w1,w2) can be written as the product of P(w2|w1) and Pw1.\n",
    "\n",
    "P(w2|w1) is the conditional probaility of getting w2 given w1. This conditional probability depends on the times w2 \n",
    "\n",
    "appears in the context of w1. \n",
    "\n",
    "Note - If you get P(w2|w1)=0, please set this probability to 10**(-8) to avoid math domain error"
   ]
  },
  {
   "cell_type": "code",
   "execution_count": 161,
   "metadata": {},
   "outputs": [],
   "source": [
    "from collections import Counter\n",
    "import math\n",
    "def get_mutual_information(w1,w2) :\n",
    "    '''\n",
    "    Input - two words w1 and w2 for which mutual information is to be calculated.\n",
    "    Output - mutual information value\n",
    "    '''\n",
    "    #start code here\n",
    "#     ll=yelp_all_window_words[w2]\n",
    "#     print(\"www\",len(ll))\n",
    "    counts = Counter(yelp_words)\n",
    "    \n",
    "    p_w1=counts[w1]/len(yelp_words)\n",
    "    p_w2=counts[w2]/len(yelp_words)\n",
    "#     print(counts[w1],counts[w2])\n",
    "    p_w2_w1=get_cooccurrence_count(w1,w2)/counts[w1]\n",
    "    if (p_w2_w1 == 0 ):\n",
    "        p_w2_w1=10**(-8)\n",
    "#     print(p_w1,p_w2,p_w2_w1)\n",
    "    #end code here\n",
    "    return math.log2((p_w2_w1*p_w1)/(p_w1*p_w2))"
   ]
  },
  {
   "cell_type": "code",
   "execution_count": 162,
   "metadata": {},
   "outputs": [
    {
     "name": "stdout",
     "output_type": "stream",
     "text": [
      "13.982097212415777\n",
      "10.3569283892996\n",
      "5.507560734408284\n",
      "10.487418072007339\n",
      "7.138958808119725\n",
      "10.363187379771283\n",
      "9.108565213753689\n"
     ]
    }
   ],
   "source": [
    "print(get_mutual_information('san','francisco'))\n",
    "print(get_mutual_information('gluten','free'))\n",
    "print(get_mutual_information('chicken','soup'))\n",
    "print(get_mutual_information('ice','cream'))\n",
    "print(get_mutual_information('grilled','chicken'))\n",
    "print(get_mutual_information('smoked','salmon'))\n",
    "print(get_mutual_information('cheeseburger','fries'))"
   ]
  },
  {
   "cell_type": "markdown",
   "metadata": {},
   "source": [
    "## Expected Output - \n",
    "\n",
    "get_mutual_information('san','francisco') = 13.982097212415777\n",
    "\n",
    "get_mutual_information('gluten','free') = 10.3569283892996\n",
    "\n",
    "get_mutual_information('chicken','soup') = 5.507560734408283\n",
    "\n",
    "get_mutual_information('ice','cream') = 10.487418072007339\n",
    "\n",
    "get_mutual_information('grilled','chicken') = 7.138958808119725\n",
    "\n",
    "get_mutual_information('smoked','salmon') = 10.363187379771285\n",
    "\n",
    "get_mutual_information('cheeseburger','fries') = 9.10856521375369"
   ]
  },
  {
   "cell_type": "markdown",
   "metadata": {},
   "source": [
    "## Graded Function 7 : mutualInformation_analysis (5 marks)\n",
    "\n",
    "Purpose : To calculate mutual information for a list of word pairs using the function created above."
   ]
  },
  {
   "cell_type": "code",
   "execution_count": 163,
   "metadata": {},
   "outputs": [],
   "source": [
    "def mutualInformation_analysis(word_list) :\n",
    "    '''\n",
    "    Input - list of word pairs separated by '-'\n",
    "    Output - dictionary of word pairs and mutual information in descending order\n",
    "    '''\n",
    "    #start code here\n",
    "    f_dict={}\n",
    "    for x in word_list:\n",
    "        parts=x.split(\"-\");\n",
    "        mf=get_mutual_information(parts[0],parts[1]) \n",
    "        f_dict[x]=mf\n",
    "    f_dict={k: v for k, v in sorted(f_dict.items(), key=lambda item: item[1],reverse=True)}\n",
    "    return f_dict\n",
    "    #end code here"
   ]
  },
  {
   "cell_type": "markdown",
   "metadata": {},
   "source": [
    "## We will first find the mutual information for top 20 co-occurring word pairs found above."
   ]
  },
  {
   "cell_type": "code",
   "execution_count": 164,
   "metadata": {},
   "outputs": [
    {
     "name": "stdout",
     "output_type": "stream",
     "text": [
      "{'this-place': 6.084338173795711, 'the-food': 3.4054447915690362, 'is-the': 3.0905725298874707, 'of-the': 3.0458438072138545, 'was-the': 2.9488282594872963, 'at-the': 2.9042235477873777, 'are-the': 2.8448795894171717, 'my-and': 2.8414195287425046, 'were-the': 2.7862298477422227, 'in-a': 2.731375779096832, 'is-a': 2.7025955093716245, 'the-and': 2.542651252030105, 'for-the': 2.447412841211646, 'a-to': 2.44146090999395, 'but-the': 2.357360258629396, 'was-a': 2.310927669516065, 'we-the': 2.270052242276006, 'to-the': 2.2600286441171553, 'i-the': 2.1352903913514725, 'it-the': 1.7926707108544109}\n"
     ]
    }
   ],
   "source": [
    "d1=mutualInformation_analysis(word_list1)\n",
    "print(d1)"
   ]
  },
  {
   "cell_type": "markdown",
   "metadata": {},
   "source": [
    "## Expected Output - \n",
    "\n",
    "{'this-place': 6.084338173795712,\n",
    "\n",
    " 'the-food': 3.4054447915690362,\n",
    " \n",
    " 'is-the': 3.090572529887471,\n",
    " \n",
    " 'of-the': 3.0458438072138545,\n",
    " \n",
    " 'was-the': 2.9488282594872963,\n",
    " \n",
    " 'at-the': 2.9042235477873777,\n",
    " \n",
    " 'are-the': 2.8448795894171717,\n",
    " \n",
    " 'my-and': 2.8414195287425046,\n",
    " \n",
    " 'were-the': 2.7862298477422227,\n",
    " \n",
    " 'in-a': 2.731375779096832,\n",
    " \n",
    " 'is-a': 2.7025955093716245,\n",
    " \n",
    " 'the-and': 2.542651252030105,\n",
    " \n",
    " 'for-the': 2.4474128412116465,\n",
    " \n",
    " 'a-to': 2.4414609099939506,\n",
    " \n",
    " 'but-the': 2.357360258629396,\n",
    " \n",
    " 'was-a': 2.3109276695160657,\n",
    " \n",
    " 'we-the': 2.270052242276006,\n",
    " \n",
    " 'to-the': 2.2600286441171558,\n",
    " \n",
    " 'i-the': 2.135290391351472,\n",
    " \n",
    " 'it-the': 1.7926707108544109}"
   ]
  },
  {
   "cell_type": "markdown",
   "metadata": {},
   "source": [
    "## We will now find the mutual information for  20 word pairs mentioned in mi_words.txt."
   ]
  },
  {
   "cell_type": "code",
   "execution_count": 165,
   "metadata": {},
   "outputs": [
    {
     "data": {
      "text/plain": [
       "{'san-francisco': 13.982097212415777,\n",
       " 'bone-marrow': 13.897061108559978,\n",
       " 'dim-sum': 13.700447128414636,\n",
       " 'ice-cream': 10.487418072007339,\n",
       " 'smoked-salmon': 10.363187379771283,\n",
       " 'gluten-free': 10.3569283892996,\n",
       " 'grocery-store': 10.190134340775154,\n",
       " 'tucked-away': 10.130169741089048,\n",
       " 'every-penny': 9.742675363803933,\n",
       " 'hollandaise-sauce': 9.665123999471179,\n",
       " 'cheeseburger-fries': 9.108565213753689,\n",
       " 'other-reviewers': 8.58625097815677,\n",
       " 'no-whatsoever': 8.209005114874719,\n",
       " 'hooked-up': 7.915638936114294,\n",
       " 'feels-like': 7.595258118267924,\n",
       " 'all-kinds': 7.5757403363677085,\n",
       " 'figure-out': 7.563642193849838,\n",
       " 'pointed-out': 7.529426478511926,\n",
       " 'grilled-chicken': 7.138958808119725}"
      ]
     },
     "execution_count": 165,
     "metadata": {},
     "output_type": "execute_result"
    }
   ],
   "source": [
    "d2=mutualInformation_analysis(word_list2)\n",
    "d2"
   ]
  },
  {
   "cell_type": "markdown",
   "metadata": {},
   "source": [
    "## Expected Output - \n",
    "\n",
    "{'san-francisco': 13.982097212415777,\n",
    "\n",
    " 'bone-marrow': 13.897061108559978,\n",
    " \n",
    " 'dim-sum': 13.700447128414638,\n",
    " \n",
    " 'ice-cream': 10.487418072007339,\n",
    " \n",
    " 'smoked-salmon': 10.363187379771285,\n",
    " \n",
    " 'gluten-free': 10.3569283892996,\n",
    " \n",
    " 'grocery-store': 10.190134340775156,\n",
    " \n",
    " 'tucked-away': 10.130169741089048,\n",
    " \n",
    " 'every-penny': 9.742675363803935,\n",
    " \n",
    " 'hollandaise-sauce': 9.665123999471179,\n",
    " \n",
    " 'cheeseburger-fries': 9.10856521375369,\n",
    " \n",
    " 'other-reviewers': 8.586250978156771,\n",
    " \n",
    " 'no-whatsoever': 8.209005114874717,\n",
    " \n",
    " 'hooked-up': 7.915638936114294,\n",
    " \n",
    " 'feels-like': 7.595258118267923,\n",
    " \n",
    " 'all-kinds': 7.5757403363677085,\n",
    " \n",
    " 'figure-out': 7.563642193849839,\n",
    " \n",
    " 'pointed-out': 7.529426478511926,\n",
    " \n",
    " 'grilled-chicken': 7.138958808119725}"
   ]
  },
  {
   "cell_type": "markdown",
   "metadata": {},
   "source": [
    "## We can observe that top words according to co-occurence analysis are actually very common words and don't help us in obtaining logically related words in a corpus. On the other hand, the words mentioned in the mi_words.txt file are more syntagmatically related as evident by the mutual information analysis"
   ]
  },
  {
   "cell_type": "markdown",
   "metadata": {},
   "source": [
    "## Graded Function 8 : get_mutualInformation_word_vector (10 marks)\n",
    "\n",
    "Purpose : To generate a vector(list) of mutual information for the given word. You will calculate mutual information \n",
    "\n",
    "between the given word and every unique word that has occured atleast once in given word's list of contexts. All \n",
    "\n",
    "other words will have 0 mutal information.\n",
    "\n",
    "element j of the vector represents the mutual information of word with index j and the current word. "
   ]
  },
  {
   "cell_type": "code",
   "execution_count": 268,
   "metadata": {},
   "outputs": [],
   "source": [
    "import itertools\n",
    "\n",
    "def get_mutualInformation_word_vector(word) :\n",
    "    '''\n",
    "    Input - word for which vector is to found.\n",
    "    Output - list of mutual information values.\n",
    "    '''\n",
    "    #start code here\n",
    "    vector=np.zeros(len(unique_words))\n",
    "    ll=yelp_all_window_words[word]\n",
    "    merged =  [j for i in ll for j in i]\n",
    "#     print(merged)\n",
    "    unique_ll=list(OrderedDict.fromkeys(merged))\n",
    "    for x, y in enumerate(unique_words):\n",
    "        if (y in unique_ll):\n",
    "            vector[x]=get_mutual_information(word,y)\n",
    "    return list(vector)\n",
    "        \n",
    "    #end code here"
   ]
  },
  {
   "cell_type": "code",
   "execution_count": 249,
   "metadata": {},
   "outputs": [
    {
     "name": "stdout",
     "output_type": "stream",
     "text": [
      "584\n",
      "585\n",
      "20552\n",
      "13.982097212415777\n",
      "13.982097212415777\n"
     ]
    }
   ],
   "source": [
    "# for x, y in enumerate(unique_words):\n",
    "#     print(x,y)\n",
    "# mu=get_mutualInformation_word_vector('san')\n",
    "print(unique_words.index('san'))\n",
    "print(unique_words.index('francisco'))\n",
    "print(unique_words.index('mateo'))\n",
    "print(mu[585])\n",
    "print(mu[20552])"
   ]
  },
  {
   "cell_type": "markdown",
   "metadata": {},
   "source": [
    "## Graded Function 9 : get_query_word (5 marks)\n",
    "\n",
    "Purpose : To recommend the most related words to a given word that can be used in query expansion using mutual information. \n",
    "\n",
    "You will use the method defined above to get the mutual information of every unique word with the given word and then \n",
    "\n",
    "pick words with highest mutual information.\n",
    "\n",
    "Please note that there can be more than one word with highest value. So, you should include them all."
   ]
  },
  {
   "cell_type": "code",
   "execution_count": 269,
   "metadata": {},
   "outputs": [],
   "source": [
    "def get_query_word(word) :\n",
    "    '''\n",
    "    Input - query word for which most related words are to be found.\n",
    "    Output - dictionary with key as word and mutual information as value\n",
    "    '''\n",
    "    #start code here\n",
    "    ddict={}\n",
    "    vect=get_mutualInformation_word_vector(word)\n",
    "#     print(vect)\n",
    "    \n",
    "    Z = zip(vect,unique_words)\n",
    "    new_Z=sorted(Z,reverse=True)\n",
    "#     print(new_Z)\n",
    "    vect_sorted = [y for y, x in new_Z]\n",
    "    uniq_sorted = [x for y, x in new_Z]\n",
    "    v_max=max(vect_sorted)\n",
    "    v_maxlist=[i for i in vect_sorted if (abs(i - v_max)<10**(-8))]\n",
    "#     print(v_maxlist)\n",
    "    for ii,jj in enumerate(v_maxlist):\n",
    "        ddict[uniq_sorted[ii]]=jj\n",
    "    #end code here\n",
    "    \n",
    "    return ddict"
   ]
  },
  {
   "cell_type": "code",
   "execution_count": 270,
   "metadata": {},
   "outputs": [
    {
     "name": "stdout",
     "output_type": "stream",
     "text": [
      "{'sharetea': 13.982097212415777, 'miyagi': 13.982097212415777, 'mateo': 13.982097212415777, 'marzano': 13.982097212415777, 'jacinto': 13.982097212415777, 'ithaca': 13.982097212415777, 'gioenovese': 13.982097212415777, 'francisco': 13.982097212415777}\n",
      "{'intolerance': 14.06698611000229, 'inquiries': 14.06698611000229, 'graving': 14.06698611000229}\n",
      "{'feathers': 19.111380229360744}\n",
      "{'moo': 10.710500793078559, 'chargrilled': 10.710500793078559, 'abt': 10.710500793078559}\n",
      "{'corps': 19.111380229360744}\n",
      "{'impacting': 19.111380229360744}\n",
      "{'playoff': 19.111380229360744}\n"
     ]
    }
   ],
   "source": [
    "print(get_query_word('san'))\n",
    "print(get_query_word('gluten'))\n",
    "print(get_query_word('peacock'))\n",
    "print(get_query_word('chicken'))\n",
    "print(get_query_word('marine'))\n",
    "print(get_query_word('negatively'))\n",
    "print(get_query_word('nba'))"
   ]
  },
  {
   "cell_type": "markdown",
   "metadata": {},
   "source": [
    "## Expected Output - \n",
    "\n",
    "print(get_query_word('san')) = {'francisco': 13.982097212415777, 'ithaca': 13.982097212415777, 'miyagi': 13.982097212415777, 'marzano': 13.982097212415777, 'gioenovese': 13.982097212415777, 'jacinto': 13.982097212415777, 'sharetea': 13.982097212415777, 'mateo': 13.982097212415777}\n",
    "\n",
    "print(get_query_word('gluten')) = {'graving': 14.06698611000229, 'inquiries': 14.06698611000229, 'intolerance': 14.06698611000229}\n",
    "\n",
    "print(get_query_word('peacock')) = {'feathers': 19.111380229360744}\n",
    "\n",
    "print(get_query_word('chicken')) = {'moo': 10.710500793078559, 'abt': 10.710500793078559, 'chargrilled': 10.710500793078559}\n",
    "\n",
    "print(get_query_word('marine')) = {'corps': 19.111380229360744}\n",
    "\n",
    "print(get_query_word('negatively')) = {'impacting': 19.111380229360744}\n",
    "\n",
    "print(get_query_word('nba')) = {'playoff': 19.111380229360744}"
   ]
  }
 ],
 "metadata": {
  "kernelspec": {
   "display_name": "Python 3",
   "language": "python",
   "name": "python3"
  },
  "language_info": {
   "codemirror_mode": {
    "name": "ipython",
    "version": 3
   },
   "file_extension": ".py",
   "mimetype": "text/x-python",
   "name": "python",
   "nbconvert_exporter": "python",
   "pygments_lexer": "ipython3",
   "version": "3.7.4"
  }
 },
 "nbformat": 4,
 "nbformat_minor": 2
}
