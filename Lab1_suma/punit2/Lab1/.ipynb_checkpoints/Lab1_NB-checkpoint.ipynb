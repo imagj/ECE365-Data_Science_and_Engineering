{
 "cells": [
  {
   "cell_type": "markdown",
   "metadata": {},
   "source": [
    "Before you turn this problem in, make sure everything runs as expected. First, **restart the kernel** (in the menubar, select Kernel$\\rightarrow$Restart) and then **run all cells** (in the menubar, select Cell$\\rightarrow$Run All).\n",
    "\n",
    "Make sure you fill in any place that says `YOUR CODE HERE` or \"YOUR ANSWER HERE\", as well as your name and NetID below:"
   ]
  },
  {
   "cell_type": "code",
   "execution_count": 1,
   "metadata": {},
   "outputs": [],
   "source": [
    "NAME = \"Punit K. Jha\"\n",
    "NetID = \"punit2\""
   ]
  },
  {
   "cell_type": "markdown",
   "metadata": {},
   "source": [
    "---"
   ]
  },
  {
   "cell_type": "markdown",
   "metadata": {},
   "source": [
    "# Lab 1: Exploring languages through word frequencies"
   ]
  },
  {
   "cell_type": "markdown",
   "metadata": {},
   "source": [
    "## Learning Objectives:\n",
    "In this lab you will learn the following linguistic concepts and programming skills:\n",
    "* Basic text processing and regular expressions.\n",
    "* What do word frequencies tell us about a language?\n",
    "* How do different languages compare?\n",
    "* How to manipulate corpora and plot insightful graphs?"
   ]
  },
  {
   "cell_type": "markdown",
   "metadata": {},
   "source": [
    "## About this assignment\n",
    "\n",
    "- This is a Jupyter notebook. You can execute cell blocks by pressing control-enter.\n",
    "- **To submit this assignment, rename the whole directory as your NetID. Compress the whole directory using tar or zip, and submit ```Your_NetID.tgz``` or ```Your_NetID.zip``` on Compass.**\n",
    "- **Total Points: 100 points**"
   ]
  },
  {
   "cell_type": "markdown",
   "metadata": {},
   "source": [
    "## Pre-requisites:\n",
    "For this lab, you need to make sure you have the following installed:\n",
    "* python3.6 (python2.7 should also work)\n",
    "* nltk (python package)\n",
    "* matplotlib\n",
    "\n",
    "To make sure your installation is successful, execute the block below."
   ]
  },
  {
   "cell_type": "code",
   "execution_count": 2,
   "metadata": {},
   "outputs": [],
   "source": [
    "import nltk\n",
    "import matplotlib"
   ]
  },
  {
   "cell_type": "markdown",
   "metadata": {},
   "source": [
    "As a packaged solution, I would recommend installing [conda](https://docs.conda.io/en/latest/miniconda.html), and creating a conda [environment](https://docs.conda.io/projects/conda/en/latest/user-guide/tasks/manage-environments.html) 'ece365_nlp' to use for the rest of this module."
   ]
  },
  {
   "cell_type": "markdown",
   "metadata": {},
   "source": [
    "## Exercise 1: Working With Text"
   ]
  },
  {
   "cell_type": "markdown",
   "metadata": {},
   "source": [
    "Before getting started, let's work with some simple text processing! "
   ]
  },
  {
   "cell_type": "code",
   "execution_count": 44,
   "metadata": {},
   "outputs": [
    {
     "data": {
      "text/plain": [
       "76"
      ]
     },
     "execution_count": 44,
     "metadata": {},
     "output_type": "execute_result"
    }
   ],
   "source": [
    "text1 = \"Ethics are built right into the ideals and objectives of the United Nations \"\n",
    "\n",
    "len(text1) # The length of text1 (String Length)"
   ]
  },
  {
   "cell_type": "code",
   "execution_count": 45,
   "metadata": {},
   "outputs": [
    {
     "data": {
      "text/plain": [
       "14"
      ]
     },
     "execution_count": 45,
     "metadata": {},
     "output_type": "execute_result"
    }
   ],
   "source": [
    "text2 = text1.split(' ') # Return a list of the words in text2, separating by ' '.\n",
    "len(text2) # Word Length"
   ]
  },
  {
   "cell_type": "code",
   "execution_count": 26,
   "metadata": {},
   "outputs": [
    {
     "data": {
      "text/plain": [
       "['Ethics',\n",
       " 'are',\n",
       " 'built',\n",
       " 'right',\n",
       " 'into',\n",
       " 'the',\n",
       " 'ideals',\n",
       " 'and',\n",
       " 'objectives',\n",
       " 'of',\n",
       " 'the',\n",
       " 'United',\n",
       " 'Nations',\n",
       " '']"
      ]
     },
     "execution_count": 26,
     "metadata": {},
     "output_type": "execute_result"
    }
   ],
   "source": [
    "text2"
   ]
  },
  {
   "cell_type": "markdown",
   "metadata": {},
   "source": [
    "<br>\n",
    "List comprehension allows us to find specific words:"
   ]
  },
  {
   "cell_type": "code",
   "execution_count": 27,
   "metadata": {},
   "outputs": [
    {
     "data": {
      "text/plain": [
       "['Ethics',\n",
       " 'built',\n",
       " 'right',\n",
       " 'into',\n",
       " 'ideals',\n",
       " 'objectives',\n",
       " 'United',\n",
       " 'Nations']"
      ]
     },
     "execution_count": 27,
     "metadata": {},
     "output_type": "execute_result"
    }
   ],
   "source": [
    "[w for w in text2 if len(w) > 3] # Words that are greater than 3 letters long in text2"
   ]
  },
  {
   "cell_type": "code",
   "execution_count": 28,
   "metadata": {},
   "outputs": [
    {
     "data": {
      "text/plain": [
       "['Ethics', 'United', 'Nations']"
      ]
     },
     "execution_count": 28,
     "metadata": {},
     "output_type": "execute_result"
    }
   ],
   "source": [
    "[w for w in text2 if w.istitle()] # Capitalized words in text2"
   ]
  },
  {
   "cell_type": "code",
   "execution_count": 29,
   "metadata": {},
   "outputs": [
    {
     "data": {
      "text/plain": [
       "['Ethics', 'ideals', 'objectives', 'Nations']"
      ]
     },
     "execution_count": 29,
     "metadata": {},
     "output_type": "execute_result"
    }
   ],
   "source": [
    "[w for w in text2 if w.endswith('s')] # Words in text2 that end in 's'"
   ]
  },
  {
   "cell_type": "markdown",
   "metadata": {},
   "source": [
    "<br>\n",
    "We can find unique words using 'set()'."
   ]
  },
  {
   "cell_type": "code",
   "execution_count": 30,
   "metadata": {},
   "outputs": [
    {
     "data": {
      "text/plain": [
       "6"
      ]
     },
     "execution_count": 30,
     "metadata": {},
     "output_type": "execute_result"
    }
   ],
   "source": [
    "text3 = 'To be or not to be'\n",
    "text4 = text3.split(' ')\n",
    "\n",
    "len(text4)"
   ]
  },
  {
   "cell_type": "code",
   "execution_count": 31,
   "metadata": {},
   "outputs": [
    {
     "data": {
      "text/plain": [
       "5"
      ]
     },
     "execution_count": 31,
     "metadata": {},
     "output_type": "execute_result"
    }
   ],
   "source": [
    "len(set(text4))"
   ]
  },
  {
   "cell_type": "code",
   "execution_count": 32,
   "metadata": {},
   "outputs": [
    {
     "data": {
      "text/plain": [
       "{'To', 'be', 'not', 'or', 'to'}"
      ]
     },
     "execution_count": 32,
     "metadata": {},
     "output_type": "execute_result"
    }
   ],
   "source": [
    "set(text4)"
   ]
  },
  {
   "cell_type": "code",
   "execution_count": 33,
   "metadata": {},
   "outputs": [
    {
     "data": {
      "text/plain": [
       "4"
      ]
     },
     "execution_count": 33,
     "metadata": {},
     "output_type": "execute_result"
    }
   ],
   "source": [
    "len(set([w.lower() for w in text4])) # .lower converts the string to lowercase."
   ]
  },
  {
   "cell_type": "code",
   "execution_count": 34,
   "metadata": {},
   "outputs": [
    {
     "data": {
      "text/plain": [
       "{'be', 'not', 'or', 'to'}"
      ]
     },
     "execution_count": 34,
     "metadata": {},
     "output_type": "execute_result"
    }
   ],
   "source": [
    "set([w.lower() for w in text4])"
   ]
  },
  {
   "cell_type": "markdown",
   "metadata": {},
   "source": [
    "### Processing free-text"
   ]
  },
  {
   "cell_type": "code",
   "execution_count": 35,
   "metadata": {},
   "outputs": [
    {
     "data": {
      "text/plain": [
       "['\"Ethics',\n",
       " 'are',\n",
       " 'built',\n",
       " 'right',\n",
       " 'into',\n",
       " 'the',\n",
       " 'ideals',\n",
       " 'and',\n",
       " 'objectives',\n",
       " 'of',\n",
       " 'the',\n",
       " 'United',\n",
       " 'Nations\"',\n",
       " '#UNSG',\n",
       " '@',\n",
       " 'NY',\n",
       " 'Society',\n",
       " 'for',\n",
       " 'Ethical',\n",
       " 'Culture',\n",
       " 'bit.ly/2guVelr']"
      ]
     },
     "execution_count": 35,
     "metadata": {},
     "output_type": "execute_result"
    }
   ],
   "source": [
    "text5 = '\"Ethics are built right into the ideals and objectives of the United Nations\" \\\n",
    "#UNSG @ NY Society for Ethical Culture bit.ly/2guVelr'\n",
    "text6 = text5.split(' ')\n",
    "\n",
    "text6"
   ]
  },
  {
   "cell_type": "markdown",
   "metadata": {},
   "source": [
    "<br>\n",
    "Finding hastags:"
   ]
  },
  {
   "cell_type": "code",
   "execution_count": 36,
   "metadata": {},
   "outputs": [
    {
     "data": {
      "text/plain": [
       "['#UNSG']"
      ]
     },
     "execution_count": 36,
     "metadata": {},
     "output_type": "execute_result"
    }
   ],
   "source": [
    "[w for w in text6 if w.startswith('#')]"
   ]
  },
  {
   "cell_type": "markdown",
   "metadata": {},
   "source": [
    "<br>\n",
    "Finding callouts:"
   ]
  },
  {
   "cell_type": "code",
   "execution_count": 37,
   "metadata": {},
   "outputs": [
    {
     "data": {
      "text/plain": [
       "['@']"
      ]
     },
     "execution_count": 37,
     "metadata": {},
     "output_type": "execute_result"
    }
   ],
   "source": [
    "[w for w in text6 if w.startswith('@')]"
   ]
  },
  {
   "cell_type": "code",
   "execution_count": 88,
   "metadata": {},
   "outputs": [
    {
     "data": {
      "text/plain": [
       "['@UN', '@UN_Women', '@']"
      ]
     },
     "execution_count": 88,
     "metadata": {},
     "output_type": "execute_result"
    }
   ],
   "source": [
    "text7 = '@UN @UN_Women \"Ethics are built right into the ideals and 78 objectives of the United Nations\" \\\n",
    "#UNSG @ NY Society for Ethical Culture bit.ly/2guVelr'\n",
    "text8 = text7.split(' ')\n",
    "[w for w in text8 if w.startswith('@')]\n",
    "# import re\n",
    "# lol=(re.sub('[0-9]+',' ', text7))\n",
    "# print(lol)\n",
    "# print(re.sub('@[A-Za-z0-9_]+',' ',lol))\n"
   ]
  },
  {
   "cell_type": "markdown",
   "metadata": {},
   "source": [
    "### Regular Expressions"
   ]
  },
  {
   "cell_type": "markdown",
   "metadata": {},
   "source": [
    "We can use regular expressions to help us with more complex parsing. A regular expression is a special sequence of characters that helps you match or find other strings or sets of strings, using a specialized syntax held in a pattern. Regular expressions are widely used in UNIX world.\n",
    "\n",
    "For example `'@[A-Za-z0-9_]+'` will return all words that: \n",
    "* start with `'@'` and are followed by at least one: \n",
    "* capital letter (`'A-Z'`)\n",
    "* lowercase letter (`'a-z'`) \n",
    "* number (`'0-9'`)\n",
    "* or underscore (`'_'`)"
   ]
  },
  {
   "cell_type": "code",
   "execution_count": 39,
   "metadata": {},
   "outputs": [
    {
     "data": {
      "text/plain": [
       "['@UN', '@UN_Women']"
      ]
     },
     "execution_count": 39,
     "metadata": {},
     "output_type": "execute_result"
    }
   ],
   "source": [
    "import re # import re - a module that provides support for regular expressions\n",
    "\n",
    "[w for w in text8 if re.search('@[A-Za-z0-9_]+', w)]"
   ]
  },
  {
   "cell_type": "markdown",
   "metadata": {},
   "source": [
    "Let's get more familiar with Regular Expression on pandas (pandas is a powerful open source data analysis Python tool.)!"
   ]
  },
  {
   "cell_type": "code",
   "execution_count": 40,
   "metadata": {},
   "outputs": [
    {
     "data": {
      "text/html": [
       "<div>\n",
       "<style scoped>\n",
       "    .dataframe tbody tr th:only-of-type {\n",
       "        vertical-align: middle;\n",
       "    }\n",
       "\n",
       "    .dataframe tbody tr th {\n",
       "        vertical-align: top;\n",
       "    }\n",
       "\n",
       "    .dataframe thead th {\n",
       "        text-align: right;\n",
       "    }\n",
       "</style>\n",
       "<table border=\"1\" class=\"dataframe\">\n",
       "  <thead>\n",
       "    <tr style=\"text-align: right;\">\n",
       "      <th></th>\n",
       "      <th>text</th>\n",
       "    </tr>\n",
       "  </thead>\n",
       "  <tbody>\n",
       "    <tr>\n",
       "      <td>0</td>\n",
       "      <td>Monday: The doctor's appointment is at 2:45pm.</td>\n",
       "    </tr>\n",
       "    <tr>\n",
       "      <td>1</td>\n",
       "      <td>Tuesday: The dentist's appointment is at 11:30...</td>\n",
       "    </tr>\n",
       "    <tr>\n",
       "      <td>2</td>\n",
       "      <td>Wednesday: At 7:00pm, there is a basketball game!</td>\n",
       "    </tr>\n",
       "    <tr>\n",
       "      <td>3</td>\n",
       "      <td>Thursday: Be back home by 11:15 pm at the latest.</td>\n",
       "    </tr>\n",
       "    <tr>\n",
       "      <td>4</td>\n",
       "      <td>Friday: Take the train at 08:10 am, arrive at ...</td>\n",
       "    </tr>\n",
       "  </tbody>\n",
       "</table>\n",
       "</div>"
      ],
      "text/plain": [
       "                                                text\n",
       "0     Monday: The doctor's appointment is at 2:45pm.\n",
       "1  Tuesday: The dentist's appointment is at 11:30...\n",
       "2  Wednesday: At 7:00pm, there is a basketball game!\n",
       "3  Thursday: Be back home by 11:15 pm at the latest.\n",
       "4  Friday: Take the train at 08:10 am, arrive at ..."
      ]
     },
     "execution_count": 40,
     "metadata": {},
     "output_type": "execute_result"
    }
   ],
   "source": [
    "import pandas as pd\n",
    "\n",
    "time_sentences = [\"Monday: The doctor's appointment is at 2:45pm.\", \n",
    "                  \"Tuesday: The dentist's appointment is at 11:30 am.\",\n",
    "                  \"Wednesday: At 7:00pm, there is a basketball game!\",\n",
    "                  \"Thursday: Be back home by 11:15 pm at the latest.\",\n",
    "                  \"Friday: Take the train at 08:10 am, arrive at 09:00am.\"]\n",
    "\n",
    "df = pd.DataFrame(time_sentences, columns=['text'])\n",
    "df"
   ]
  },
  {
   "cell_type": "code",
   "execution_count": 2,
   "metadata": {},
   "outputs": [
    {
     "data": {
      "text/plain": [
       "0    46\n",
       "1    50\n",
       "2    49\n",
       "3    49\n",
       "4    54\n",
       "Name: text, dtype: int64"
      ]
     },
     "execution_count": 2,
     "metadata": {},
     "output_type": "execute_result"
    }
   ],
   "source": [
    "# find the number of characters for each string in df['text']\n",
    "df['text'].str.len()"
   ]
  },
  {
   "cell_type": "code",
   "execution_count": 3,
   "metadata": {},
   "outputs": [
    {
     "data": {
      "text/plain": [
       "0     7\n",
       "1     8\n",
       "2     8\n",
       "3    10\n",
       "4    10\n",
       "Name: text, dtype: int64"
      ]
     },
     "execution_count": 3,
     "metadata": {},
     "output_type": "execute_result"
    }
   ],
   "source": [
    "# find the number of tokens for each string in df['text']\n",
    "df['text'].str.split().str.len()"
   ]
  },
  {
   "cell_type": "code",
   "execution_count": 4,
   "metadata": {},
   "outputs": [
    {
     "data": {
      "text/plain": [
       "0     True\n",
       "1     True\n",
       "2    False\n",
       "3    False\n",
       "4    False\n",
       "Name: text, dtype: bool"
      ]
     },
     "execution_count": 4,
     "metadata": {},
     "output_type": "execute_result"
    }
   ],
   "source": [
    "# find which entries contain the word 'appointment'\n",
    "df['text'].str.contains('appointment')"
   ]
  },
  {
   "cell_type": "code",
   "execution_count": 5,
   "metadata": {},
   "outputs": [
    {
     "data": {
      "text/plain": [
       "0    3\n",
       "1    4\n",
       "2    3\n",
       "3    4\n",
       "4    8\n",
       "Name: text, dtype: int64"
      ]
     },
     "execution_count": 5,
     "metadata": {},
     "output_type": "execute_result"
    }
   ],
   "source": [
    "# find how many times a digit occurs in each string\n",
    "df['text'].str.count(r'\\d')"
   ]
  },
  {
   "cell_type": "code",
   "execution_count": 6,
   "metadata": {},
   "outputs": [
    {
     "data": {
      "text/plain": [
       "0                   [2, 4, 5]\n",
       "1                [1, 1, 3, 0]\n",
       "2                   [7, 0, 0]\n",
       "3                [1, 1, 1, 5]\n",
       "4    [0, 8, 1, 0, 0, 9, 0, 0]\n",
       "Name: text, dtype: object"
      ]
     },
     "execution_count": 6,
     "metadata": {},
     "output_type": "execute_result"
    }
   ],
   "source": [
    "# find all \"occurances\" of the digits(numbers)\n",
    "df['text'].str.findall(r'\\d')"
   ]
  },
  {
   "cell_type": "code",
   "execution_count": 13,
   "metadata": {},
   "outputs": [
    {
     "data": {
      "text/plain": [
       "0               [(2, 45)]\n",
       "1              [(11, 30)]\n",
       "2               [(7, 00)]\n",
       "3              [(11, 15)]\n",
       "4    [(08, 10), (09, 00)]\n",
       "Name: text, dtype: object"
      ]
     },
     "execution_count": 13,
     "metadata": {},
     "output_type": "execute_result"
    }
   ],
   "source": [
    "# group and find the hours and minutes\n",
    "df['text'].str.findall(r'(\\d?\\d):(\\d\\d)')"
   ]
  },
  {
   "cell_type": "code",
   "execution_count": 14,
   "metadata": {},
   "outputs": [
    {
     "data": {
      "text/plain": [
       "0          ???: The doctor's appointment is at 2:45pm.\n",
       "1       ???: The dentist's appointment is at 11:30 am.\n",
       "2          ???: At 7:00pm, there is a basketball game!\n",
       "3         ???: Be back home by 11:15 pm at the latest.\n",
       "4    ???: Take the train at 08:10 am, arrive at 09:...\n",
       "Name: text, dtype: object"
      ]
     },
     "execution_count": 14,
     "metadata": {},
     "output_type": "execute_result"
    }
   ],
   "source": [
    "# replace weekdays with '???'\n",
    "df['text'].str.replace(r'\\w+day\\b', '???')"
   ]
  },
  {
   "cell_type": "code",
   "execution_count": 18,
   "metadata": {},
   "outputs": [
    {
     "data": {
      "text/plain": [
       "0          Mon: The doctor's appointment is at 2:45pm.\n",
       "1       Tue: The dentist's appointment is at 11:30 am.\n",
       "2          Wed: At 7:00pm, there is a basketball game!\n",
       "3         Thu: Be back home by 11:15 pm at the latest.\n",
       "4    Fri: Take the train at 08:10 am, arrive at 09:...\n",
       "Name: text, dtype: object"
      ]
     },
     "execution_count": 18,
     "metadata": {},
     "output_type": "execute_result"
    }
   ],
   "source": [
    "# replace weekdays with 3 letter abbrevations\n",
    "df['text'].str.replace(r'(\\w+day\\b)', lambda x: x.groups()[0][:3])"
   ]
  },
  {
   "cell_type": "code",
   "execution_count": 19,
   "metadata": {},
   "outputs": [
    {
     "data": {
      "text/html": [
       "<div>\n",
       "<style scoped>\n",
       "    .dataframe tbody tr th:only-of-type {\n",
       "        vertical-align: middle;\n",
       "    }\n",
       "\n",
       "    .dataframe tbody tr th {\n",
       "        vertical-align: top;\n",
       "    }\n",
       "\n",
       "    .dataframe thead th {\n",
       "        text-align: right;\n",
       "    }\n",
       "</style>\n",
       "<table border=\"1\" class=\"dataframe\">\n",
       "  <thead>\n",
       "    <tr style=\"text-align: right;\">\n",
       "      <th></th>\n",
       "      <th>0</th>\n",
       "      <th>1</th>\n",
       "    </tr>\n",
       "  </thead>\n",
       "  <tbody>\n",
       "    <tr>\n",
       "      <td>0</td>\n",
       "      <td>2</td>\n",
       "      <td>45</td>\n",
       "    </tr>\n",
       "    <tr>\n",
       "      <td>1</td>\n",
       "      <td>11</td>\n",
       "      <td>30</td>\n",
       "    </tr>\n",
       "    <tr>\n",
       "      <td>2</td>\n",
       "      <td>7</td>\n",
       "      <td>00</td>\n",
       "    </tr>\n",
       "    <tr>\n",
       "      <td>3</td>\n",
       "      <td>11</td>\n",
       "      <td>15</td>\n",
       "    </tr>\n",
       "    <tr>\n",
       "      <td>4</td>\n",
       "      <td>08</td>\n",
       "      <td>10</td>\n",
       "    </tr>\n",
       "  </tbody>\n",
       "</table>\n",
       "</div>"
      ],
      "text/plain": [
       "    0   1\n",
       "0   2  45\n",
       "1  11  30\n",
       "2   7  00\n",
       "3  11  15\n",
       "4  08  10"
      ]
     },
     "execution_count": 19,
     "metadata": {},
     "output_type": "execute_result"
    }
   ],
   "source": [
    "# create new columns from first match of extracted groups\n",
    "df['text'].str.extract(r'(\\d?\\d):(\\d\\d)')"
   ]
  },
  {
   "cell_type": "code",
   "execution_count": 20,
   "metadata": {},
   "outputs": [
    {
     "data": {
      "text/html": [
       "<div>\n",
       "<style scoped>\n",
       "    .dataframe tbody tr th:only-of-type {\n",
       "        vertical-align: middle;\n",
       "    }\n",
       "\n",
       "    .dataframe tbody tr th {\n",
       "        vertical-align: top;\n",
       "    }\n",
       "\n",
       "    .dataframe thead th {\n",
       "        text-align: right;\n",
       "    }\n",
       "</style>\n",
       "<table border=\"1\" class=\"dataframe\">\n",
       "  <thead>\n",
       "    <tr style=\"text-align: right;\">\n",
       "      <th></th>\n",
       "      <th></th>\n",
       "      <th>0</th>\n",
       "      <th>1</th>\n",
       "      <th>2</th>\n",
       "      <th>3</th>\n",
       "    </tr>\n",
       "    <tr>\n",
       "      <th></th>\n",
       "      <th>match</th>\n",
       "      <th></th>\n",
       "      <th></th>\n",
       "      <th></th>\n",
       "      <th></th>\n",
       "    </tr>\n",
       "  </thead>\n",
       "  <tbody>\n",
       "    <tr>\n",
       "      <td>0</td>\n",
       "      <td>0</td>\n",
       "      <td>2:45pm</td>\n",
       "      <td>2</td>\n",
       "      <td>45</td>\n",
       "      <td>pm</td>\n",
       "    </tr>\n",
       "    <tr>\n",
       "      <td>1</td>\n",
       "      <td>0</td>\n",
       "      <td>11:30 am</td>\n",
       "      <td>11</td>\n",
       "      <td>30</td>\n",
       "      <td>am</td>\n",
       "    </tr>\n",
       "    <tr>\n",
       "      <td>2</td>\n",
       "      <td>0</td>\n",
       "      <td>7:00pm</td>\n",
       "      <td>7</td>\n",
       "      <td>00</td>\n",
       "      <td>pm</td>\n",
       "    </tr>\n",
       "    <tr>\n",
       "      <td>3</td>\n",
       "      <td>0</td>\n",
       "      <td>11:15 pm</td>\n",
       "      <td>11</td>\n",
       "      <td>15</td>\n",
       "      <td>pm</td>\n",
       "    </tr>\n",
       "    <tr>\n",
       "      <td rowspan=\"2\" valign=\"top\">4</td>\n",
       "      <td>0</td>\n",
       "      <td>08:10 am</td>\n",
       "      <td>08</td>\n",
       "      <td>10</td>\n",
       "      <td>am</td>\n",
       "    </tr>\n",
       "    <tr>\n",
       "      <td>1</td>\n",
       "      <td>09:00am</td>\n",
       "      <td>09</td>\n",
       "      <td>00</td>\n",
       "      <td>am</td>\n",
       "    </tr>\n",
       "  </tbody>\n",
       "</table>\n",
       "</div>"
      ],
      "text/plain": [
       "                0   1   2   3\n",
       "  match                      \n",
       "0 0        2:45pm   2  45  pm\n",
       "1 0      11:30 am  11  30  am\n",
       "2 0        7:00pm   7  00  pm\n",
       "3 0      11:15 pm  11  15  pm\n",
       "4 0      08:10 am  08  10  am\n",
       "  1       09:00am  09  00  am"
      ]
     },
     "execution_count": 20,
     "metadata": {},
     "output_type": "execute_result"
    }
   ],
   "source": [
    "# extract the entire time, the hours, the minutes, and the period\n",
    "df['text'].str.extractall(r'((\\d?\\d):(\\d\\d) ?([ap]m))')"
   ]
  },
  {
   "cell_type": "code",
   "execution_count": 21,
   "metadata": {},
   "outputs": [
    {
     "data": {
      "text/html": [
       "<div>\n",
       "<style scoped>\n",
       "    .dataframe tbody tr th:only-of-type {\n",
       "        vertical-align: middle;\n",
       "    }\n",
       "\n",
       "    .dataframe tbody tr th {\n",
       "        vertical-align: top;\n",
       "    }\n",
       "\n",
       "    .dataframe thead th {\n",
       "        text-align: right;\n",
       "    }\n",
       "</style>\n",
       "<table border=\"1\" class=\"dataframe\">\n",
       "  <thead>\n",
       "    <tr style=\"text-align: right;\">\n",
       "      <th></th>\n",
       "      <th></th>\n",
       "      <th>time</th>\n",
       "      <th>hour</th>\n",
       "      <th>minute</th>\n",
       "      <th>period</th>\n",
       "    </tr>\n",
       "    <tr>\n",
       "      <th></th>\n",
       "      <th>match</th>\n",
       "      <th></th>\n",
       "      <th></th>\n",
       "      <th></th>\n",
       "      <th></th>\n",
       "    </tr>\n",
       "  </thead>\n",
       "  <tbody>\n",
       "    <tr>\n",
       "      <td>0</td>\n",
       "      <td>0</td>\n",
       "      <td>2:45pm</td>\n",
       "      <td>2</td>\n",
       "      <td>45</td>\n",
       "      <td>pm</td>\n",
       "    </tr>\n",
       "    <tr>\n",
       "      <td>1</td>\n",
       "      <td>0</td>\n",
       "      <td>11:30 am</td>\n",
       "      <td>11</td>\n",
       "      <td>30</td>\n",
       "      <td>am</td>\n",
       "    </tr>\n",
       "    <tr>\n",
       "      <td>2</td>\n",
       "      <td>0</td>\n",
       "      <td>7:00pm</td>\n",
       "      <td>7</td>\n",
       "      <td>00</td>\n",
       "      <td>pm</td>\n",
       "    </tr>\n",
       "    <tr>\n",
       "      <td>3</td>\n",
       "      <td>0</td>\n",
       "      <td>11:15 pm</td>\n",
       "      <td>11</td>\n",
       "      <td>15</td>\n",
       "      <td>pm</td>\n",
       "    </tr>\n",
       "    <tr>\n",
       "      <td rowspan=\"2\" valign=\"top\">4</td>\n",
       "      <td>0</td>\n",
       "      <td>08:10 am</td>\n",
       "      <td>08</td>\n",
       "      <td>10</td>\n",
       "      <td>am</td>\n",
       "    </tr>\n",
       "    <tr>\n",
       "      <td>1</td>\n",
       "      <td>09:00am</td>\n",
       "      <td>09</td>\n",
       "      <td>00</td>\n",
       "      <td>am</td>\n",
       "    </tr>\n",
       "  </tbody>\n",
       "</table>\n",
       "</div>"
      ],
      "text/plain": [
       "             time hour minute period\n",
       "  match                             \n",
       "0 0        2:45pm    2     45     pm\n",
       "1 0      11:30 am   11     30     am\n",
       "2 0        7:00pm    7     00     pm\n",
       "3 0      11:15 pm   11     15     pm\n",
       "4 0      08:10 am   08     10     am\n",
       "  1       09:00am   09     00     am"
      ]
     },
     "execution_count": 21,
     "metadata": {},
     "output_type": "execute_result"
    }
   ],
   "source": [
    "# extract the entire time, the hours, the minutes, and the period with group names\n",
    "df['text'].str.extractall(r'(?P<time>(?P<hour>\\d?\\d):(?P<minute>\\d\\d) ?(?P<period>[ap]m))')"
   ]
  },
  {
   "cell_type": "markdown",
   "metadata": {},
   "source": [
    "You may realize there is nothing for you to answer. This section is ungraded, but you are strongly recommended to read&understand this section before moving on. "
   ]
  },
  {
   "cell_type": "markdown",
   "metadata": {},
   "source": [
    "## Exercise 2: Word Frequencies"
   ]
  },
  {
   "cell_type": "markdown",
   "metadata": {},
   "source": [
    "We live in a multi-lingual world. The languages we use are like English in some ways and distinct from English in many ways. In this exercise, we will explore some aspects of languages that make them different from English by the use of quantitative indices. \n",
    "\n",
    "Before we begin comparing languages, let us begin with English. How many words are there in English? Well, that depends on who we ask. The Second Edition of the 20-volume Oxford English Dictionary contains full entries for 171,476 words in current use (and 47,156 obsolete words). Looking elsewhere, Webster's Third New International Dictionary, Unabridged, together with its 1993 Addenda Section, includes some 470,000 entries. But, the number of words in the Oxford and Webster Dictionaries are not the same as the number of words in English. Why is that? First, it takes a while for dictionary publishers like Oxford University and Merriam-Webster to include new words in their dictionaries. While it may seem surprising new words are being coined at a rapid rate, a recent article in The Guardian reports that English speakers are adding new words at the rate of around 1,000 a year. Recent dictionary debutants include blog, grok, crowdfunding, hackathon, airball, e-marketing, sudoku, twerk and Brexit, many of which are words we find in use in our everyday lives. Slang and jargon could also be considered in this list. You have probably observed how some of these terms depend on where you live (e.g., 'prepone' in India means the opposite of postpone), whereas others are common in many places (e.g. the portmanteau, brunch = breakfast + lunch).\n",
    "\n",
    "A natural question that arises in this setting is, are all words equally likely, or do they occur with different frequencies? As you can expect, words occur with different frequencies, but what you would would not have expected is how skewed the word frequencies can be. That is what you will see in your first exercise. \n",
    "\n",
    "First, you will count the frequency of words from a word list derived from a large collection of words -- a 'corpus' (meaning 'a body of text'). For this part of the exercise, you will use the corpus of Reuters from which you will count the number of times each word occurs.\n",
    "                                                                                                                     For this, you will need to do some tokenization. Towards that, you will lowercase all words, remove the punctuation marks and numbers. Then you will use NLTK to get the frequency distribution of the tokenized text.\n",
    "                                                                                                                     \n",
    "Based on the frequency distribution of word that you will collect, you will answer the following questions.\n",
    "\n",
    "* What are the 10 most frequent words?\n",
    "* What are the 10 least frequent words?\n",
    "* What proportion of words have a frequency of 1? These singleton words are termed 'hapax legomena' (a sophisticated Greek name) and the numebr of singletons in a corpus is a measure of the richness of the vocabulary of that collection, giving you the rate at which new words appear in that text. If you take a very large text in a language and call it representative of that language, then the rate of singletons is a measure of its richness.\n",
    "* What are the answers to the above questions, if we consider stemming or lemmatization? \n",
    "\n",
    "**Total points: 55 points**"
   ]
  },
  {
   "cell_type": "markdown",
   "metadata": {},
   "source": [
    "### Coding Questions\n",
    "\n",
    "a. In the code cell below, complete the function \"get_freqs\" that takes as an input the \"Reuters\" corpus (type str) from nltk and returns as an output a dictionary with the key being a word, and the value being the frequency of the word in the corpus.\n",
    "Make sure to lowercase all words in the corpus and to replace all punctuations and digits with empty spaces. This will take care of tokenization for you. To avoid confusion, the list of punctuation marks are given to you. (15 points)"
   ]
  },
  {
   "cell_type": "code",
   "execution_count": 19,
   "metadata": {
    "deletable": false,
    "nbgrader": {
     "cell_type": "code",
     "checksum": "10f563825d338c4b9c632700af2a19cd",
     "grade": false,
     "grade_id": "cell-053fc5a44cfd341b",
     "locked": false,
     "schema_version": 3,
     "solution": true,
     "task": false
    }
   },
   "outputs": [],
   "source": [
    "puncts = ['.','!','?',',',';',':','[', ']', '{', '}', '(', ')', '\\'', '\\\"']\n",
    "from collections import Counter\n",
    "def get_freqs(corpus):\n",
    "#     puncts = ['.','!','?',',',';',':','[', ']', '{', '}', '(', ')', '\\'', '\\\"']\n",
    "#     digits=[0,1,2,3,4,5,6,7,8,9]\n",
    "#     for x in puncts:\n",
    "\n",
    "    for c in puncts: #here the whole corpus is just a long string \n",
    "        corpus= corpus.replace(c,' ')\n",
    "    corpus=re.sub('[0-9]', ' ', corpus)#here the whole corpus is just a long string \n",
    "    corpus=corpus.split() #spliting the corpus into words\n",
    "    corpus=[w.lower() for w in corpus]\n",
    "    freqs=(Counter(corpus))\n",
    "    \n",
    "    \n",
    "    \n",
    "#     words = corpus.split(' ')\n",
    "#     corpus_lc = [w.lower() for w in words]\n",
    "#     freqs = {}\n",
    "#     YOUR CODE HERE\n",
    "    \n",
    "    \n",
    "    return dict(freqs)"
   ]
  },
  {
   "cell_type": "code",
   "execution_count": 20,
   "metadata": {},
   "outputs": [],
   "source": [
    "import re\n",
    "raw_corpus = nltk.corpus.reuters.raw()\n",
    "freqs = get_freqs(raw_corpus)\n",
    "# [w for w in raw_corpus if re.search('[0-9]', w)]\n",
    "# raw_corpus\n"
   ]
  },
  {
   "cell_type": "markdown",
   "metadata": {},
   "source": [
    "b. Next, complete the function below called \"get_top_10\" that takes in the \"freqs\" dictionary, and returns the top 10 most frequent words as a list. (5 points)"
   ]
  },
  {
   "cell_type": "code",
   "execution_count": 21,
   "metadata": {
    "deletable": false,
    "nbgrader": {
     "cell_type": "code",
     "checksum": "1e4f0f69043f23c9cf3a3988b5081516",
     "grade": false,
     "grade_id": "cell-4aec5a37bbd4cef5",
     "locked": false,
     "schema_version": 3,
     "solution": true,
     "task": false
    }
   },
   "outputs": [
    {
     "name": "stdout",
     "output_type": "stream",
     "text": [
      "[('the', 69246), ('of', 36749), ('to', 36278), ('in', 29217), ('and', 25617), ('said', 25382), ('a', 24940), ('mln', 18598), ('s', 15601), ('vs', 14341)]\n"
     ]
    }
   ],
   "source": [
    "def get_top_10(freqs):\n",
    "    top_10 = []\n",
    "    freqs=sorted(freqs.items(), key=lambda item: item[1])\n",
    "    top_10=freqs[-10:]\n",
    "    return list(top_10[::-1])\n",
    "print(get_top_10(freqs))"
   ]
  },
  {
   "cell_type": "code",
   "execution_count": null,
   "metadata": {
    "deletable": false,
    "editable": false,
    "nbgrader": {
     "cell_type": "code",
     "checksum": "4d43ae54a6eac1c0aeffc73b12631230",
     "grade": true,
     "grade_id": "cell-76c42b84f8038afc",
     "locked": true,
     "points": 20,
     "schema_version": 3,
     "solution": false,
     "task": false
    }
   },
   "outputs": [],
   "source": []
  },
  {
   "cell_type": "markdown",
   "metadata": {},
   "source": [
    "c. Next, complete the function below called \"get_bottom_10\" that takes in the \"freqs\" dictionary, and returns the top 10 least frequent words as a list. (5 points)"
   ]
  },
  {
   "cell_type": "code",
   "execution_count": 22,
   "metadata": {
    "deletable": false,
    "nbgrader": {
     "cell_type": "code",
     "checksum": "c03ad60cb73061f63b478a73a02474d3",
     "grade": false,
     "grade_id": "cell-f7d5084d8b86ea60",
     "locked": false,
     "schema_version": 3,
     "solution": true,
     "task": false
    }
   },
   "outputs": [
    {
     "name": "stdout",
     "output_type": "stream",
     "text": [
      "[('inflict', 1), ('sheen', 1), ('stand-off', 1), ('avowed', 1), ('kilolitres', 1), ('kilowatt/hour', 1), ('janunary/march', 1), ('pineapples', 1), ('hasrul', 1), ('paian', 1)]\n"
     ]
    }
   ],
   "source": [
    "def get_bottom_10(freqs):\n",
    "    bottom_10 = []\n",
    "    freqs=sorted(freqs.items(), key=lambda item: item[1])\n",
    "    bottom_10=freqs[0:10]\n",
    "    return bottom_10\n",
    "print(get_bottom_10(freqs))"
   ]
  },
  {
   "cell_type": "code",
   "execution_count": null,
   "metadata": {
    "deletable": false,
    "editable": false,
    "nbgrader": {
     "cell_type": "code",
     "checksum": "69c1ebdfe81744184165e679bb8aa329",
     "grade": true,
     "grade_id": "cell-eedc6f45889eadd8",
     "locked": true,
     "points": 5,
     "schema_version": 3,
     "solution": false,
     "task": false
    }
   },
   "outputs": [],
   "source": []
  },
  {
   "cell_type": "markdown",
   "metadata": {},
   "source": [
    "d. Complete the function below called \"get_percentage_singletons\" which takes in the \"freqs\" dictionary and returns a float value of the percentage of words that appear once in the corpus. (5 points)"
   ]
  },
  {
   "cell_type": "code",
   "execution_count": 23,
   "metadata": {
    "deletable": false,
    "nbgrader": {
     "cell_type": "code",
     "checksum": "378cce3c65a1fc77025dffa03c62fe18",
     "grade": false,
     "grade_id": "cell-a165768ae088ea2c",
     "locked": false,
     "schema_version": 3,
     "solution": true,
     "task": false
    }
   },
   "outputs": [
    {
     "name": "stdout",
     "output_type": "stream",
     "text": [
      "40.480636029633196\n"
     ]
    }
   ],
   "source": [
    "def get_percentage_singletons(freqs):\n",
    "    dict_len=len(freqs)\n",
    "    ones=(sum(value == 1 for value in freqs.values()))\n",
    "    return (ones/dict_len)*100\n",
    "print(get_percentage_singletons(freqs))"
   ]
  },
  {
   "cell_type": "code",
   "execution_count": null,
   "metadata": {
    "deletable": false,
    "editable": false,
    "nbgrader": {
     "cell_type": "code",
     "checksum": "d6d5f07958c8d444a13104cc9971317d",
     "grade": true,
     "grade_id": "cell-9e57695b3b6a675d",
     "locked": true,
     "points": 5,
     "schema_version": 3,
     "solution": false,
     "task": false
    }
   },
   "outputs": [],
   "source": []
  },
  {
   "cell_type": "markdown",
   "metadata": {},
   "source": [
    "e. The next two blocks show examples of how stemming and lemmatization are done. "
   ]
  },
  {
   "cell_type": "code",
   "execution_count": 24,
   "metadata": {},
   "outputs": [
    {
     "name": "stdout",
     "output_type": "stream",
     "text": [
      "cat\n",
      "troubl\n",
      "troubl\n",
      "troubl\n"
     ]
    }
   ],
   "source": [
    "from nltk.stem import PorterStemmer\n",
    "porter = PorterStemmer()\n",
    "print(porter.stem(\"cats\"))\n",
    "print(porter.stem(\"trouble\"))\n",
    "print(porter.stem(\"troubling\"))\n",
    "print(porter.stem(\"troubled\"))"
   ]
  },
  {
   "cell_type": "code",
   "execution_count": 25,
   "metadata": {},
   "outputs": [
    {
     "name": "stdout",
     "output_type": "stream",
     "text": [
      "He                  He                  \n",
      "was                 be                  \n",
      "running             run                 \n",
      "and                 and                 \n",
      "eating              eat                 \n",
      "at                  at                  \n",
      "same                same                \n",
      "time.               time.               \n",
      "He                  He                  \n",
      "has                 have                \n",
      "bad                 bad                 \n",
      "habit               habit               \n",
      "of                  of                  \n",
      "swimming            swim                \n",
      "after               after               \n",
      "playing             play                \n",
      "long                long                \n",
      "hours               hours               \n",
      "in                  in                  \n",
      "the                 the                 \n",
      "Sun.                Sun.                \n"
     ]
    }
   ],
   "source": [
    "# nltk.download('wordnet')\n",
    "from nltk.stem import WordNetLemmatizer\n",
    "wordnet_lemmatizer = WordNetLemmatizer()\n",
    "sentence = \"He was running and eating at same time. He has bad habit of swimming after playing long hours in the Sun.\"\n",
    "for word in sentence.split():\n",
    "    print (\"{0:20}{1:20}\".format(word,wordnet_lemmatizer.lemmatize(word, pos=\"v\")))"
   ]
  },
  {
   "cell_type": "markdown",
   "metadata": {},
   "source": [
    "f. Repeat steps b,c,d by doing stemming. You may modify the get_freqs() function. (5 points)"
   ]
  },
  {
   "cell_type": "code",
   "execution_count": 26,
   "metadata": {
    "deletable": false,
    "nbgrader": {
     "cell_type": "code",
     "checksum": "2d883c287a55ed3b54d728b0fa9f6358",
     "grade": false,
     "grade_id": "cell-9e9343b8ca4c2880",
     "locked": false,
     "schema_version": 3,
     "solution": true,
     "task": false
    }
   },
   "outputs": [
    {
     "name": "stdout",
     "output_type": "stream",
     "text": [
      "[('the', 69246), ('of', 36754), ('to', 36278), ('in', 29217), ('and', 25620), ('said', 25382), ('a', 24940), ('mln', 18605), ('it', 18502), ('s', 15601)]\n",
      "[('inflict', 1), ('sheen', 1), ('stand-off', 1), ('avow', 1), ('kilolitr', 1), ('kilowatt/hour', 1), ('janunary/march', 1), ('hasrul', 1), ('paian', 1), ('sawn', 1)]\n",
      "42.06299945690123\n"
     ]
    }
   ],
   "source": [
    "from nltk.tokenize import sent_tokenize, word_tokenize\n",
    "puncts = ['.','!','?',',',';',':','[', ']', '{', '}', '(', ')', '\\'', '\\\"']\n",
    "def get_freqs(corpus):\n",
    "    porter = PorterStemmer()\n",
    "    for c in puncts: #here the whole corpus is just a long string \n",
    "        corpus= corpus.replace(c,' ')\n",
    "    corpus=re.sub('[0-9]', ' ', corpus)#here the whole corpus is just a long string \n",
    "    corpus_list=[]\n",
    "    for word in corpus.split():\n",
    "        word=word.lower()\n",
    "        corpus_list.append(porter.stem(word))\n",
    "    freqs=(Counter(corpus_list))\n",
    "    return freqs\n",
    "        \n",
    "    \n",
    "\n",
    "freqs_stemming = get_freqs(raw_corpus)\n",
    "print(get_top_10(freqs_stemming))\n",
    "print(get_bottom_10(freqs_stemming))\n",
    "print(get_percentage_singletons(freqs_stemming))"
   ]
  },
  {
   "cell_type": "code",
   "execution_count": null,
   "metadata": {
    "deletable": false,
    "editable": false,
    "nbgrader": {
     "cell_type": "code",
     "checksum": "0ad1203b8404d1de1da6acb547f20768",
     "grade": true,
     "grade_id": "cell-d58f04c1eef6cf43",
     "locked": true,
     "points": 5,
     "schema_version": 3,
     "solution": false,
     "task": false
    }
   },
   "outputs": [],
   "source": []
  },
  {
   "cell_type": "markdown",
   "metadata": {},
   "source": [
    "g. Repeat steps b,c,d by doing lemmatization. You may modify the get_freqs() function.  (5 points)"
   ]
  },
  {
   "cell_type": "code",
   "execution_count": 29,
   "metadata": {
    "deletable": false,
    "nbgrader": {
     "cell_type": "code",
     "checksum": "6e03a6320fd2306cde38842fd924f5e9",
     "grade": false,
     "grade_id": "cell-f364b1fc291d7e74",
     "locked": false,
     "schema_version": 3,
     "solution": true,
     "task": false
    }
   },
   "outputs": [
    {
     "name": "stdout",
     "output_type": "stream",
     "text": [
      "[('the', 69246), ('of', 36749), ('to', 36278), ('a', 29463), ('in', 29217), ('and', 25617), ('said', 25382), ('mln', 18598), ('it', 18502), ('s', 15604)]\n",
      "[('inflict', 1), ('sheen', 1), ('stand-off', 1), ('avowed', 1), ('kilolitre', 1), ('kilowatt/hour', 1), ('janunary/march', 1), ('hasrul', 1), ('paian', 1), ('sawn', 1)]\n",
      "41.13848051147243\n"
     ]
    }
   ],
   "source": [
    "puncts = ['.','!','?',',',';',':','[', ']', '{', '}', '(', ')', '\\'', '\\\"']\n",
    "def get_freqs(corpus):\n",
    "    wordnet_lemmatizer = WordNetLemmatizer()\n",
    "    for c in puncts: #here the whole corpus is just a long string \n",
    "        corpus= corpus.replace(c,' ')\n",
    "    corpus=re.sub('[0-9]', ' ', corpus)#here the whole corpus is just a long string \n",
    "    corpus_list=[]\n",
    "    for word in corpus.split():\n",
    "        word=word.lower()\n",
    "        corpus_list.append(wordnet_lemmatizer.lemmatize(word))\n",
    "    freqs=(Counter(corpus_list))    \n",
    "    return freqs\n",
    "freqs_lemmatized = get_freqs(raw_corpus)\n",
    "print(get_top_10(freqs_lemmatized))\n",
    "print(get_bottom_10(freqs_lemmatized))\n",
    "print(get_percentage_singletons(freqs_lemmatized))"
   ]
  },
  {
   "cell_type": "code",
   "execution_count": null,
   "metadata": {
    "deletable": false,
    "editable": false,
    "nbgrader": {
     "cell_type": "code",
     "checksum": "4fd09a357a285f7447b1a160eb6f4061",
     "grade": true,
     "grade_id": "cell-cad80b5f0643a89f",
     "locked": true,
     "points": 5,
     "schema_version": 3,
     "solution": false,
     "task": false
    }
   },
   "outputs": [],
   "source": []
  },
  {
   "cell_type": "markdown",
   "metadata": {},
   "source": [
    "h. What is the vocabulary size of this corpus (i.e., raw_corpus)? How about the vocabulary size after doing stemming and lemmatization respectively? Note that we lowercase all words in the corpus and replace all punctuations and digits with empty spaces.  (5 points)"
   ]
  },
  {
   "cell_type": "code",
   "execution_count": 33,
   "metadata": {
    "deletable": false,
    "nbgrader": {
     "cell_type": "code",
     "checksum": "9382d3d8770e2e3aacdac453ae555f58",
     "grade": false,
     "grade_id": "cell-60cc741a45f09b60",
     "locked": false,
     "schema_version": 3,
     "solution": true,
     "task": false
    }
   },
   "outputs": [
    {
     "name": "stdout",
     "output_type": "stream",
     "text": [
      "33206\n",
      "25778\n",
      "30813\n"
     ]
    }
   ],
   "source": [
    "puncts = ['.','!','?',',',';',':','[', ']', '{', '}', '(', ')', '\\'', '\\\"']\n",
    "\n",
    "\n",
    "def size_of_raw_corpus(corpus):\n",
    "    for c in puncts: #here the whole corpus is just a long string \n",
    "        corpus= corpus.replace(c,' ')\n",
    "    corpus=re.sub('[0-9]', ' ', corpus)#here the whole corpus is just a long string \n",
    "    corpus=corpus.split() #spliting the corpus into words\n",
    "    corpus=[w.lower() for w in corpus]\n",
    "    freqs=(Counter(corpus))\n",
    "    return len(freqs)\n",
    "    \n",
    "\n",
    "def size_of_stemmed_raw_corpus(corpus):\n",
    "    porter = PorterStemmer()\n",
    "    for c in puncts: #here the whole corpus is just a long string \n",
    "        corpus= corpus.replace(c,' ')\n",
    "    corpus=re.sub('[0-9]', ' ', corpus)#here the whole corpus is just a long string \n",
    "    corpus_list=[]\n",
    "    for word in corpus.split():\n",
    "        word=word.lower()\n",
    "        corpus_list.append(porter.stem(word))\n",
    "    freqs=(Counter(corpus_list))\n",
    "    return len(freqs)\n",
    "    \n",
    "\n",
    "def size_of_lemmatized_raw_corpus(corpus):\n",
    "    wordnet_lemmatizer = WordNetLemmatizer()\n",
    "    for c in puncts: #here the whole corpus is just a long string \n",
    "        corpus= corpus.replace(c,' ')\n",
    "    corpus=re.sub('[0-9]', ' ', corpus)#here the whole corpus is just a long string \n",
    "    corpus_list=[]\n",
    "    for word in corpus.split():\n",
    "        word=word.lower()\n",
    "        corpus_list.append(wordnet_lemmatizer.lemmatize(word))\n",
    "    freqs=(Counter(corpus_list)) \n",
    "    return len(freqs)\n",
    "\n",
    "\n",
    "print(size_of_raw_corpus(raw_corpus))  # Vocalbulary size of raw_corpus. \n",
    "print(size_of_stemmed_raw_corpus(raw_corpus))  # Vocalbulary size of raw_corpus after stemming. \n",
    "print(size_of_lemmatized_raw_corpus(raw_corpus))  # Vocalbulary size of raw_corpus after lemmatization. "
   ]
  },
  {
   "cell_type": "code",
   "execution_count": null,
   "metadata": {
    "deletable": false,
    "editable": false,
    "nbgrader": {
     "cell_type": "code",
     "checksum": "ea19144d5632197862e0634272c5b9d4",
     "grade": true,
     "grade_id": "cell-c3277367acf9daa0",
     "locked": true,
     "points": 5,
     "schema_version": 3,
     "solution": false,
     "task": false
    }
   },
   "outputs": [],
   "source": []
  },
  {
   "cell_type": "markdown",
   "metadata": {},
   "source": [
    "i. Different documents, even of equal length are usually composed of different vocabularies. We will compare two documents of equal length, and see the percentage of unseen vocabulary between them. \n",
    "\n",
    "More specifically, we have document \"a\" to be the first 100 words of raw_corpus and document \"b\" to be the last 100 words of raw_corpus. How many percent of words in document \"a\" does NOT appear in document \"b\"? What if we change the document size to be 1000 (first 1000 words of raw_corpus v.s. last 1000 words of raw_corpus), 10000, 100000, 500000? \n",
    "What do you observe with the document size increasing? You may find set(a)-set(b) is a useful function.  (10 points)"
   ]
  },
  {
   "cell_type": "code",
   "execution_count": 207,
   "metadata": {
    "deletable": false,
    "nbgrader": {
     "cell_type": "code",
     "checksum": "89b0c699fff365e7d5fc5dbaf77f56ed",
     "grade": true,
     "grade_id": "cell-3e819a96835cdc2b",
     "locked": false,
     "points": 5,
     "schema_version": 3,
     "solution": true,
     "task": false
    }
   },
   "outputs": [
    {
     "name": "stdout",
     "output_type": "stream",
     "text": [
      "Length of words 100\n",
      " percentage of unseen vocabulary 94.6667 %\n",
      "percentage of unseen vocabulary after stemming 92.0000 %\n",
      "percentage of unseen vocabulary after lemmatization  93.3333 %\n",
      "------------------------------------------------------------\n",
      "None\n",
      "Length of words 1000\n",
      " percentage of unseen vocabulary 38.2609 %\n",
      "percentage of unseen vocabulary after stemming 32.3913 %\n",
      "percentage of unseen vocabulary after lemmatization  35.5435 %\n",
      "------------------------------------------------------------\n",
      "None\n",
      "Length of words 10000\n",
      " percentage of unseen vocabulary 13.6798 %\n",
      "percentage of unseen vocabulary after stemming 9.3325 %\n",
      "percentage of unseen vocabulary after lemmatization  12.1811 %\n",
      "------------------------------------------------------------\n",
      "None\n",
      "Length of words 100000\n",
      " percentage of unseen vocabulary 4.1713 %\n",
      "percentage of unseen vocabulary after stemming 2.9909 %\n",
      "percentage of unseen vocabulary after lemmatization  3.7885 %\n",
      "------------------------------------------------------------\n",
      "None\n",
      "Length of words 500000\n",
      " percentage of unseen vocabulary 2.0543 %\n",
      "percentage of unseen vocabulary after stemming 1.5899 %\n",
      "percentage of unseen vocabulary after lemmatization  1.9161 %\n",
      "------------------------------------------------------------\n",
      "None\n"
     ]
    }
   ],
   "source": [
    "import string\n",
    "def percentage_of_unseen_vocab(a, b, length_i):\n",
    "    \n",
    "    print(\"Length of words\",len(a))\n",
    "    porter = PorterStemmer()\n",
    "    \n",
    "    a=[w.lower() for w in a]#lowercase\n",
    "    b=[w.lower() for w in b]\n",
    "    a=[x for x in a if not any(c.isdigit() for c in x)] \n",
    "    b=[x for x in b if not any(c.isdigit() for c in x)] #removing the digits\n",
    "    a=[\"\".join( j for j in i if j not in string.punctuation) for i in  a]\n",
    "    b=[\"\".join( j for j in i if j not in string.punctuation) for i in  b] #removing the punctuations\n",
    "    c=set(a)-set(b)\n",
    "    print(\" percentage of unseen vocabulary %3.4f\" %((len(c)/len(b))*100),\"%\")\n",
    "    \n",
    "    stem_a=[]\n",
    "    stem_b=[]\n",
    "    for word in a:\n",
    "        stem_a.append(porter.stem(word))\n",
    "    for word in b:\n",
    "        stem_b.append(porter.stem(word))\n",
    "    stem_c=set(stem_a)-set(stem_b)\n",
    "    print(\"percentage of unseen vocabulary after stemming %3.4f\" %((len(stem_c)/len(stem_b))*100),\"%\")\n",
    "          \n",
    "    wordnet_lemmatizer = WordNetLemmatizer()\n",
    "    lemma_a=[]\n",
    "    lemma_b=[]\n",
    "    for word in a:\n",
    "        lemma_a.append(wordnet_lemmatizer.lemmatize(word))\n",
    "    for word in b:\n",
    "        lemma_b.append(wordnet_lemmatizer.lemmatize(word))\n",
    "    lemma_c=set(lemma_a)-set(lemma_b)\n",
    "    print(\"percentage of unseen vocabulary after lemmatization  %3.4f\" %((len(lemma_c)/len(lemma_b))*100),\"%\")\n",
    "    print(\"------------------------------------------------------------\")\n",
    "    return None\n",
    "\n",
    "length = [100,1000,10000,100000,500000]\n",
    "for length_i in length:\n",
    "    a = raw_corpus.split()[:length_i]\n",
    "    b = raw_corpus.split()[-length_i:]\n",
    "    print(percentage_of_unseen_vocab(a, b, length_i))\n",
    "    \n",
    "\n",
    "### Write down your observation here: \n",
    "\n",
    "# From the data below we observe that as the  document size increases the percentage\n",
    "# of unseen vocabulary between them increases. This is the usual trend whether we do stemming and \n",
    "# lemmatization or not. For percentage of unseen vocabulary after stemming and lemmatization are around the same."
   ]
  },
  {
   "cell_type": "code",
   "execution_count": null,
   "metadata": {
    "deletable": false,
    "editable": false,
    "nbgrader": {
     "cell_type": "code",
     "checksum": "e1bd77cb8059803657c20a6074037798",
     "grade": true,
     "grade_id": "cell-3e391821c0e4a4d1",
     "locked": true,
     "points": 5,
     "schema_version": 3,
     "solution": false,
     "task": false
    }
   },
   "outputs": [],
   "source": []
  },
  {
   "cell_type": "markdown",
   "metadata": {},
   "source": [
    "## Exercise 3: Pareto principle"
   ]
  },
  {
   "cell_type": "markdown",
   "metadata": {},
   "source": [
    "The popular Pareto principle (also known as the 80/20 rule), states that for many events, roughly 80% of the effects come from 20% of the causes. This includes observations that found that the distribution of global income is very uneven, with the richest 20% of the world's population controlling 82.7% of the world's income. This seems to be the case with words as well. \n",
    "\n",
    "In this exercise, we observe something similar to the Pareto principle in words. By calculating what fraction of the most frequent words accounts for 80% of the total words in the corpus, you will see that a very small number of frequent words account for a large number of words. \n",
    "\n",
    "**Total points: 20 points**\n",
    "\n",
    "a. Complete the function below called \"frac_80_perc\" which takes in \"freqs\" as an input, and returns a float representing the fraction of words that account for 80% of the tokens in the corpus (the expected answer is around 3% for Reuters corpus -- a News corpus). Note: you should be considering the words in decreasing order of frequency until reaching 80% of word (frequency) count.  (15 points)"
   ]
  },
  {
   "cell_type": "code",
   "execution_count": 206,
   "metadata": {
    "deletable": false,
    "nbgrader": {
     "cell_type": "code",
     "checksum": "80d9f77febac70d15a62be33ee6b344a",
     "grade": false,
     "grade_id": "cell-7d532348cdd5379a",
     "locked": false,
     "schema_version": 3,
     "solution": true,
     "task": false
    }
   },
   "outputs": [
    {
     "name": "stdout",
     "output_type": "stream",
     "text": [
      "3.334 %\n"
     ]
    }
   ],
   "source": [
    "def frac_80_perc(freqs):\n",
    "    total=sum(freqs.values())\n",
    "    freqs=sorted(freqs.items(), key=lambda item: item[1], reverse=True)\n",
    "    no_words=len(freqs)\n",
    "    deno=0\n",
    "    poss=0\n",
    "    for key in freqs:\n",
    "        deno+=key[1]\n",
    "        poss+=1\n",
    "        if((deno/total) >= 0.8):\n",
    "            break  \n",
    "    frac_val=(poss/no_words)*100\n",
    "    return frac_val\n",
    "\n",
    "\n",
    "print(\"%2.3f\"%frac_80_perc(freqs),\"%\")"
   ]
  },
  {
   "cell_type": "code",
   "execution_count": null,
   "metadata": {
    "deletable": false,
    "editable": false,
    "nbgrader": {
     "cell_type": "code",
     "checksum": "e7c8aac4620bd26c8dfcf8dc238b9a45",
     "grade": true,
     "grade_id": "cell-d39b1cdba3cd5662",
     "locked": true,
     "points": 15,
     "schema_version": 3,
     "solution": false,
     "task": false
    }
   },
   "outputs": [],
   "source": []
  },
  {
   "cell_type": "markdown",
   "metadata": {},
   "source": [
    "This relation between the frequency and rank for words is called Zipf's law. It states that given a large sample of words used, the frequency of any word is inversely proportional to its rank in the frequency table. So word number n has a frequency proportional to 1/n. In order to see this, sort the words in a decreasing order of their frequencies and do a rank-frequency plot, with the words (indicated by their ranks) indicated along the x-axis and their frequencies in the y-axis.\n",
    "\n",
    "b. Accordingly, we will plot the frequency of words when ranked in decreasing order. Complete the function \"plot_zipf\" below that takes in \"freqs\" as an input, and generates a plot using matplotlib. In this plot, the x-axis represents the rank of words in decreasing order of frequency, and the y-axis represents the frequency of the corresponding word. (5 points)"
   ]
  },
  {
   "cell_type": "code",
   "execution_count": 204,
   "metadata": {
    "deletable": false,
    "nbgrader": {
     "cell_type": "code",
     "checksum": "3e4e47af069f27cb7e7a232e029e9375",
     "grade": true,
     "grade_id": "cell-42ff4546787c495e",
     "locked": false,
     "points": 5,
     "schema_version": 3,
     "solution": true,
     "task": false
    }
   },
   "outputs": [],
   "source": [
    "import matplotlib.pyplot as plt\n",
    "\n",
    "def plot_zipf(freqs):\n",
    "    freqs=sorted(freqs.items(), key=lambda item: item[1], reverse=True)\n",
    "    y=[]\n",
    "    x=list(range(1,len(freqs)+1))\n",
    "    for i in freqs:\n",
    "        y.append(i[1])\n",
    "    plt.plot(x,y)\n",
    "    axes = plt.gca()\n",
    "    plt.xlabel('word ranks')\n",
    "    plt.ylabel('frequencies')\n",
    "    plt.show()  # put this line at the end to display the figure."
   ]
  },
  {
   "cell_type": "code",
   "execution_count": 205,
   "metadata": {},
   "outputs": [
    {
     "data": {
      "image/png": "[encoded data removed]",
      "text/plain": [
       "<Figure size 432x288 with 1 Axes>"
      ]
     },
     "metadata": {
      "needs_background": "light"
     },
     "output_type": "display_data"
    }
   ],
   "source": [
    "plot_zipf(freqs)"
   ]
  },
  {
   "cell_type": "markdown",
   "metadata": {},
   "source": [
    "## Exercise 4: Type-to-Token Ratio (TTR)"
   ]
  },
  {
   "cell_type": "markdown",
   "metadata": {},
   "source": [
    "Another way of measuring the richenss of vocabulary is by looking at the type-token distribution of words in a language. Word types are unique words in a corpus, whereas the tokens are the words in a corpus with repetition. And so, a sentence such as \"I am taking this class because I love taking on challenges\" has 11 tokens, but 9 types since the words \"I\" and \"taking\" are repeated twice. Accordingly, Type-to-Token Ratio (TTR) is the ratio of types to tokens, and the higher it is, the less words are repeated, and the richer is the language.\n",
    "\n",
    "**Total points: 25 points**\n",
    "\n",
    "a. In this exercise we will be exploring, for every language, the amount of \"types\" explored as we explore larger portions of the corpus, or tokens. We will be considering the Universal Declaration of Human Rights in 4 languages. Particularly, we will be plotting the amount of types explored per language as we explore 100 more tokens. For this exercise, complete the following function \"get_TTRs\" which takes in as an input a predefined set of languages, and returns as an output the dictionary TTR, which has a language as the key, and the value as a list showing the count of types as we explore 100 tokens, 200 tokens, 300 tokens, up until 1300 tokens of the respective corpus. Accordingly, each list in the dictionary should be made of 13 data points. Do not forget to lowercase, but you do not need to perform tokenization as the corpora now are actually a list of words instead of one string.  (15 points)"
   ]
  },
  {
   "cell_type": "code",
   "execution_count": 235,
   "metadata": {
    "deletable": false,
    "nbgrader": {
     "cell_type": "code",
     "checksum": "956b11acb200a9c82da501cc3faf5bd5",
     "grade": false,
     "grade_id": "cell-f89f433ea4675fed",
     "locked": false,
     "schema_version": 3,
     "solution": true,
     "task": false
    }
   },
   "outputs": [],
   "source": [
    "from nltk.corpus import udhr\n",
    "languages = ['Italian-Latin1', 'English-Latin1', 'German_Deutsch-Latin1', 'Finnish_Suomi-Latin1']\n",
    "import numpy as np\n",
    "def get_TTRs(languages):\n",
    "    TTRs = {}\n",
    "    tokens=np.arange(100,1400,100)\n",
    "    for lang in languages:\n",
    "        words = udhr.words(lang)\n",
    "        words =[w.lower() for w in words] #lowercasing the words\n",
    "        words=[x for x in words if not any(c.isdigit() for c in x)]#removing the digits\n",
    "        words=[\"\".join( j for j in i if j not in string.punctuation) for i in  words] #remove punctuations\n",
    "        print(lang,words[:20])\n",
    "        print()\n",
    "        count=[]\n",
    "        for t in tokens:\n",
    "            unique=set(words[:t]) #using set to hold only unique words\n",
    "            count.append(len(unique))\n",
    "        TTRs[lang]=count   \n",
    "    return TTRs"
   ]
  },
  {
   "cell_type": "code",
   "execution_count": 236,
   "metadata": {},
   "outputs": [
    {
     "name": "stdout",
     "output_type": "stream",
     "text": [
      "Italian-Latin1 ['dichiarazione', 'universale', 'dei', 'diritti', 'umani', 'preambolo', 'considerato', 'che', 'il', 'riconoscimento', 'della', 'dignità', 'inerente', 'a', 'tutti', 'i', 'membri', 'della', 'famiglia', 'umana']\n",
      "\n",
      "English-Latin1 ['universal', 'declaration', 'of', 'human', 'rights', 'preamble', 'whereas', 'recognition', 'of', 'the', 'inherent', 'dignity', 'and', 'of', 'the', 'equal', 'and', 'inalienable', 'rights', 'of']\n",
      "\n",
      "German_Deutsch-Latin1 ['die', 'allgemeine', 'erklärung', 'der', 'menschenrechte', 'resolution', 'a', '', 'iii', '', 'vom', '', '', 'präambel', 'da', 'die', 'anerkennung', 'der', 'angeborenen', 'würde']\n",
      "\n",
      "Finnish_Suomi-Latin1 ['ihmisoikeuksien', 'yleismaailmallinen', 'julistus', 'johdanto', 'kun', 'ihmiskunnan', 'kaikkien', 'jäsenten', 'luonnollisen', 'arvon', 'ja', 'heidän', 'yhtäläisten', 'ja', 'luovuttamattomien', 'oikeuksiensa', 'tunnustaminen', 'on', 'vapauden', '']\n",
      "\n",
      "{'Italian-Latin1': [62, 108, 141, 175, 217, 252, 278, 317, 342, 370, 396, 407, 434], 'English-Latin1': [57, 99, 133, 164, 202, 222, 254, 281, 306, 326, 341, 363, 384], 'German_Deutsch-Latin1': [58, 106, 149, 198, 245, 272, 308, 343, 374, 399, 425, 456, 476], 'Finnish_Suomi-Latin1': [74, 136, 189, 246, 296, 349, 396, 443, 476, 521, 571, 614, 654]}\n"
     ]
    }
   ],
   "source": [
    "# nltk.download('udhr')\n",
    "TTRs = get_TTRs(languages)\n",
    "print(TTRs)\n"
   ]
  },
  {
   "cell_type": "code",
   "execution_count": null,
   "metadata": {
    "deletable": false,
    "editable": false,
    "nbgrader": {
     "cell_type": "code",
     "checksum": "427df0595ab69a5fd7d88f457c478004",
     "grade": true,
     "grade_id": "cell-65fae85d3536e61a",
     "locked": true,
     "points": 15,
     "schema_version": 3,
     "solution": false,
     "task": false
    }
   },
   "outputs": [],
   "source": []
  },
  {
   "cell_type": "markdown",
   "metadata": {},
   "source": [
    "b. Next, plot a line graph (one line for every language, four lines in total) that shows the count of types discovered on the y-axis and the amount of tokens in the corpus discovered on the x-axis, in increments of 100 tokens, up to 1300. (5 points)"
   ]
  },
  {
   "cell_type": "code",
   "execution_count": 237,
   "metadata": {
    "deletable": false,
    "nbgrader": {
     "cell_type": "code",
     "checksum": "2db483e2170953559519e513e7d4727d",
     "grade": true,
     "grade_id": "cell-8260219dae07a1cd",
     "locked": false,
     "points": 5,
     "schema_version": 3,
     "solution": true,
     "task": false
    }
   },
   "outputs": [
    {
     "data": {
      "image/png": "[encoded data removed]",
      "text/plain": [
       "<Figure size 432x288 with 1 Axes>"
      ]
     },
     "metadata": {
      "needs_background": "light"
     },
     "output_type": "display_data"
    }
   ],
   "source": [
    "import matplotlib.pyplot as plt\n",
    "\n",
    "def plot_TTRs(TTRs):\n",
    "    tokens=list(np.arange(100,1400,100))\n",
    "    for key in TTRs:\n",
    "        plt.plot(tokens,TTRs[key],label=key) \n",
    "    plt.xlabel(' amount of tokens ')\n",
    "    plt.ylabel('count of types ')\n",
    "    plt.title('Plot of amount of tokens vs count of types ')\n",
    "    plt.legend(loc=\"upper left\")\n",
    "    plt.xticks(np.arange(100,1400,100))\n",
    "    plt.show()  # put this line at the end to display the figure.\n",
    "plot_TTRs(TTRs)"
   ]
  },
  {
   "cell_type": "markdown",
   "metadata": {},
   "source": [
    "c. Which language has the highest TTR? What could be driving the TTR? Share your thoughts in the textbox below: (5 points)"
   ]
  },
  {
   "cell_type": "markdown",
   "metadata": {
    "deletable": false,
    "nbgrader": {
     "cell_type": "markdown",
     "checksum": "ca165109e2baa3d6d86084246f995d6c",
     "grade": true,
     "grade_id": "cell-97883af5aa5d83f4",
     "locked": false,
     "points": 5,
     "schema_version": 3,
     "solution": true,
     "task": false
    }
   },
   "source": [
    "<b>As per the plot above Finnish_Suomi-Latin1 language has the highest TTR ratio. I suspect that the length of the word is affecting the TTR ratio, Finnish_Suomi-Latin1 has higer length of each token/word on an average as compared to other languages in this problem as seen from the few words I have printed above."
   ]
  },
  {
   "cell_type": "code",
   "execution_count": null,
   "metadata": {},
   "outputs": [],
   "source": []
  }
 ],
 "metadata": {
  "kernelspec": {
   "display_name": "Python 3",
   "language": "python",
   "name": "python3"
  },
  "language_info": {
   "codemirror_mode": {
    "name": "ipython",
    "version": 3
   },
   "file_extension": ".py",
   "mimetype": "text/x-python",
   "name": "python",
   "nbconvert_exporter": "python",
   "pygments_lexer": "ipython3",
   "version": "3.7.4"
  }
 },
 "nbformat": 4,
 "nbformat_minor": 2
}
